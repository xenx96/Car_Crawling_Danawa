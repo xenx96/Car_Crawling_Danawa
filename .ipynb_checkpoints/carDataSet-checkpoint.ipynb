{
 "cells": [
  {
   "cell_type": "code",
   "execution_count": 83,
   "metadata": {},
   "outputs": [
    {
     "name": "stdout",
     "output_type": "stream",
     "text": [
      "Data List :\n",
      "['Context-30000-40000.csv', 'Context-40000-50000.csv', 'Context-50000-60000.csv']\n"
     ]
    }
   ],
   "source": [
    "import pandas as pd\n",
    "import os\n",
    "\n",
    "data_list = os.listdir('./data/')\n",
    "\n",
    "#0번 파일의 경우 all_data이므로, 해당 데이터는 제외하고 시작한다.\n",
    "data_list = data_list[1:]\n",
    "print('Data List :')\n",
    "print(data_list)\n",
    "#DATA Folder에 있는 data 합치기.\n",
    "num = 0 \n",
    "for data_file in data_list :\n",
    "    if num == 0 :\n",
    "        data = pd.read_csv('./data/'+data_file)\n",
    "    else :\n",
    "        data = pd.concat([data,pd.read_csv('./data/'+data_file)]) \n",
    "    num += 1\n",
    "\n",
    "\n",
    "#차량정보가 잘못 수집된 데이터\n",
    "data = data[data.차종!='차종'] \n",
    "data = data[data['전장(mm)']!='휘발유']\n",
    "\n",
    "#Concat후, New Index 부여.\n",
    "data = data.reset_index()\n",
    "\n",
    "#필요 없는 Columns 제거\n",
    "data = data.drop(columns=['index','Unnamed: 0'])\n"
   ]
  },
  {
   "cell_type": "code",
   "execution_count": 3,
   "metadata": {},
   "outputs": [],
   "source": [
    "#차량 명 분류 Function\n",
    "def carNameSplit(data):\n",
    "    \n",
    "    data['회사'] = \"\"\n",
    "    data['차량형태'] = \"\"\n",
    "    data['차명'] = \"\"\n",
    "    \n",
    "    num = 0\n",
    "    \n",
    "    #차종별 데이터 세팅\n",
    "    for car in data.차종:\n",
    "        \n",
    "        car_name = \"\"\n",
    "        Car_info = car.split(\"::\")\n",
    "        \n",
    "        #회사 및 차량형태 Colums 화\n",
    "        data['차량형태'].iloc[num] = Car_info[1]\n",
    "        data['회사'].iloc[num] = Car_info[0].split()[0]\n",
    "        \n",
    "        #Car_info에서 차량명 부분 Array 추출.\n",
    "        Car_name = Car_info[0].split()[1:]\n",
    "        #차량명 Merge\n",
    "        for carN in Car_name :\n",
    "            car_name += carN\n",
    "            \n",
    "        data['차명'].iloc[num] = car_name\n",
    "        num += 1\n",
    "    \n",
    "    data = data.drop(columns='차종')\n",
    "    return data"
   ]
  },
  {
   "cell_type": "code",
   "execution_count": 4,
   "metadata": {},
   "outputs": [],
   "source": [
    "all_data=carNameSplit(data)\n",
    "all_data.columns = ['전장','전폭','전고','축거','회사','차량형태','차명']"
   ]
  },
  {
   "cell_type": "code",
   "execution_count": 34,
   "metadata": {},
   "outputs": [],
   "source": [
    "import re\n",
    "\n",
    "#Delete Comma in text.\n",
    "#This is very important to change dtype(Object => Numeric).\n",
    "\n",
    "def comma_Gsub(data):\n",
    "    data = re.sub(',','',data)\n",
    "    return data"
   ]
  },
  {
   "cell_type": "code",
   "execution_count": 42,
   "metadata": {},
   "outputs": [],
   "source": [
    "#Apply the Comma_Gusb Function.\n",
    "all_data['전폭']=all_data['전폭'].apply(comma_Gsub)\n",
    "all_data['전장']=all_data['전장'].apply(comma_Gsub)\n",
    "all_data['전고']=all_data['전고'].apply(comma_Gsub)\n",
    "all_data['축거']=all_data['축거'].apply(comma_Gsub)\n",
    "\n",
    "#Write.CSV(merge data)\n",
    "all_data.to_csv('data/all_data.csv',encoding='utf-8')"
   ]
  }
 ],
 "metadata": {
  "kernelspec": {
   "display_name": "Python 3",
   "language": "python",
   "name": "python3"
  },
  "language_info": {
   "codemirror_mode": {
    "name": "ipython",
    "version": 3
   },
   "file_extension": ".py",
   "mimetype": "text/x-python",
   "name": "python",
   "nbconvert_exporter": "python",
   "pygments_lexer": "ipython3",
   "version": "3.8.3"
  }
 },
 "nbformat": 4,
 "nbformat_minor": 4
}
