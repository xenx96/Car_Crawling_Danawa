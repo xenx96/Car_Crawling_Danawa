{
 "cells": [
  {
   "cell_type": "code",
   "execution_count": 1,
   "metadata": {},
   "outputs": [],
   "source": [
    "import selenium\n",
    "from selenium import webdriver\n",
    "from selenium.webdriver import ActionChains\n",
    "\n",
    "from selenium.webdriver.common.keys import Keys\n",
    "from selenium.webdriver.common.by import By\n",
    "\n",
    "from selenium.webdriver.support import expected_conditions as EC\n",
    "from selenium.webdriver.support.ui import Select\n",
    "from selenium.webdriver.support.ui import WebDriverWait"
   ]
  },
  {
   "cell_type": "code",
   "execution_count": 2,
   "metadata": {},
   "outputs": [],
   "source": [
    "def carCrawling1_set(tbody): \n",
    "    text = [[],[],[],[],[],[]]\n",
    "    rows = tbody.find_elements_by_tag_name(\"tr\")\n",
    "\n",
    "    len_text = len(rows[0].find_elements_by_tag_name('th'))\n",
    "    t_count = [0,2,3,4,5] # 0 = 차 제원명 , 2 = 차 전장, 3 = 전폭, 4 = 전고, 5 = 축거\n",
    "\n",
    "    for i in t_count:\n",
    "        if i == 0:\n",
    "            tag ='th' #차 제원은 th\n",
    "        else :\n",
    "            tag = 'td' #나머지는 td로 되어있음\n",
    "\n",
    "        t = rows[i].find_elements_by_tag_name(tag)\n",
    "\n",
    "        for text_count in range(len_text):\n",
    "            if i == 2:\n",
    "                text[i].append(t[text_count+1].text)\n",
    "            else:\n",
    "                text[i].append(t[text_count].text)\n",
    "\n",
    "    text=pd.DataFrame(text).T\n",
    "    text=text.drop(columns=1)\n",
    "    text.columns= ['차종', '전장(mm)', '전폭(㎜)', '전고(㎜)', '축거(㎜)']\n",
    "    return text.iloc[1:]"
   ]
  },
  {
   "cell_type": "code",
   "execution_count": 3,
   "metadata": {},
   "outputs": [],
   "source": [
    " def carCrawling2_set(driver): \n",
    "    text = [[],[],[],[],[]]\n",
    "    x = 0\n",
    "    t = driver.find_element_by_class_name('trim').text\n",
    "    for text_count in t :\n",
    "        text[x].append(text_count.text);\n",
    "        \n",
    "    for i in range(36,40):\n",
    "        x += 1;        \n",
    "        id = 'compareRight_'+str(i)\n",
    "        t = driver.find_element_by_id(id)#36 = 전장, 37 = 전폭, 38 = 전고, 39 = 축거 \n",
    "        for text_count in t :\n",
    "            text[x].append(text_count.text)\n",
    "            \n",
    "    text=pd.DataFrame(text).T\n",
    "    text=text.drop(columns=1)\n",
    "    text.columns= ['차종', '전장(mm)', '전폭(㎜)', '전고(㎜)', '축거(㎜)']        \n",
    "    return text\n"
   ]
  },
  {
   "cell_type": "code",
   "execution_count": null,
   "metadata": {},
   "outputs": [],
   "source": []
  },
  {
   "cell_type": "code",
   "execution_count": null,
   "metadata": {},
   "outputs": [
    {
     "name": "stderr",
     "output_type": "stream",
     "text": [
      "WebPage is:  29%|█████████████████▊                                            | 2419/8446 [3:35:23<8:52:28,  5.30s/it]"
     ]
    }
   ],
   "source": [
    "from selenium import webdriver\n",
    "from selenium.webdriver.common.keys import Keys\n",
    "from time import sleep\n",
    "from tqdm import tqdm\n",
    "import pandas as pd\n",
    "options = webdriver.ChromeOptions()\n",
    "options.add_argument('window-size=1920,1080')\n",
    "\n",
    "driver = webdriver.Chrome('chromedriver', options=options)\n",
    "driver.implicitly_wait(5)\n",
    "\n",
    "\n",
    "\n",
    "context = pd.DataFrame(['차종', '전장(mm)', '전폭(㎜)', '전고(㎜)', '축거(㎜)'])\n",
    "context = context.T\n",
    "context.columns = ['차종', '전장(mm)', '전폭(㎜)', '전고(㎜)', '축거(㎜)']\n",
    "\n",
    "url = 'http://auto.danawa.com/auto/modelPopup.php?Type=spec&Lineup='\n",
    "\n",
    "for page in tqdm(range(51554,60000), desc=\"WebPage is\", mininterval=0.01):\n",
    "    driver.get(url=url+str(page))\n",
    "    try :\n",
    "        company_name = driver.find_element_by_class_name('name').text #Company_name\n",
    "        tbody = driver.find_element_by_tag_name(\"tbody\")\n",
    "    except :\n",
    "        continue;\n",
    "\n",
    "    if tbody.text != '세부모델':\n",
    "        try :\n",
    "            text = carCrawling1_set(tbody);\n",
    "            text.차종 = company_name+'::'+text.차종\n",
    "            context = pd.concat([context,text])\n",
    "        except :\n",
    "            continue;\n",
    "    else : \n",
    "        try :\n",
    "            text = carCrawling2_set(driver)\n",
    "            text.차종 = company_name+'::'+text.차종\n",
    "            context = pd.concat([context,text])\n",
    "        except :\n",
    "            continue;\n",
    "\n",
    "print('-----end------')\n",
    "print(context)\n",
    "            \n",
    "\n",
    "\n"
   ]
  },
  {
   "cell_type": "code",
   "execution_count": 27,
   "metadata": {},
   "outputs": [],
   "source": [
    "context.to_csv('data/Context-50000-60000.csv')"
   ]
  },
  {
   "cell_type": "code",
   "execution_count": null,
   "metadata": {},
   "outputs": [],
   "source": [
    "import pandas as pd\n",
    "data = 'data/Context-40000-50000.csv'\n",
    "pd.read_csv(data)"
   ]
  }
 ],
 "metadata": {
  "kernelspec": {
   "display_name": "Python 3",
   "language": "python",
   "name": "python3"
  },
  "language_info": {
   "codemirror_mode": {
    "name": "ipython",
    "version": 3
   },
   "file_extension": ".py",
   "mimetype": "text/x-python",
   "name": "python",
   "nbconvert_exporter": "python",
   "pygments_lexer": "ipython3",
   "version": "3.8.3"
  }
 },
 "nbformat": 4,
 "nbformat_minor": 4
}
