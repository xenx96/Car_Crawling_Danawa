{
 "cells": [
  {
   "cell_type": "code",
   "execution_count": 1,
   "metadata": {},
   "outputs": [],
   "source": [
    "import selenium\n",
    "from selenium import webdriver\n",
    "from selenium.webdriver import ActionChains\n",
    "\n",
    "from selenium.webdriver.common.keys import Keys\n",
    "from selenium.webdriver.common.by import By\n",
    "\n",
    "from selenium.webdriver.support import expected_conditions as EC\n",
    "from selenium.webdriver.support.ui import Select\n",
    "from selenium.webdriver.support.ui import WebDriverWait"
   ]
  },
  {
   "cell_type": "code",
   "execution_count": 2,
   "metadata": {},
   "outputs": [],
   "source": [
    "def carCrawling1_set(tbody): \n",
    "    text = [[],[],[],[],[],[]]\n",
    "    rows = tbody.find_elements_by_tag_name(\"tr\")\n",
    "\n",
    "    len_text = len(rows[0].find_elements_by_tag_name('th'))\n",
    "    t_count = [0,2,3,4,5] # 0 = 차 제원명 , 2 = 차 전장, 3 = 전폭, 4 = 전고, 5 = 축거\n",
    "\n",
    "    for i in t_count:\n",
    "        if i == 0:\n",
    "            tag ='th' #차 제원은 th\n",
    "        else :\n",
    "            tag = 'td' #나머지는 td로 되어있음\n",
    "\n",
    "        t = rows[i].find_elements_by_tag_name(tag)\n",
    "\n",
    "        for text_count in range(len_text):\n",
    "            if i == 2:\n",
    "                text[i].append(t[text_count+1].text)\n",
    "            else:\n",
    "                text[i].append(t[text_count].text)\n",
    "\n",
    "    text=pd.DataFrame(text).T\n",
    "    text=text.drop(columns=1)\n",
    "    text.columns= ['차종', '전장(mm)', '전폭(㎜)', '전고(㎜)', '축거(㎜)']\n",
    "    return text.iloc[1:]"
   ]
  },
  {
   "cell_type": "code",
   "execution_count": 3,
   "metadata": {},
   "outputs": [],
   "source": [
    " def carCrawling2_set(driver): \n",
    "    text = [[],[],[],[],[]]\n",
    "    x = 0\n",
    "    t = driver.find_element_by_class_name('trim').text\n",
    "    for text_count in t :\n",
    "        text[x].append(text_count.text);\n",
    "        \n",
    "    for i in range(36,40):\n",
    "        x += 1;        \n",
    "        id = 'compareRight_'+str(i)\n",
    "        t = driver.find_element_by_id(id)#36 = 전장, 37 = 전폭, 38 = 전고, 39 = 축거 \n",
    "        for text_count in t :\n",
    "            text[x].append(text_count.text)\n",
    "            \n",
    "    text=pd.DataFrame(text).T\n",
    "    text=text.drop(columns=1)\n",
    "    text.columns= ['차종', '전장(mm)', '전폭(㎜)', '전고(㎜)', '축거(㎜)']        \n",
    "    return text\n"
   ]
  },
  {
   "cell_type": "code",
   "execution_count": 4,
   "metadata": {
    "scrolled": true
   },
   "outputs": [
    {
     "name": "stderr",
     "output_type": "stream",
     "text": [
      "WebPage is:   1%|▍                                                              | 540/70000 [47:29<77:49:37,  4.03s/it]"
     ]
    },
    {
     "name": "stdout",
     "output_type": "stream",
     "text": [
      "                    차종 전장(mm)  전폭(㎜)  전고(㎜)  축거(㎜)\n",
      "1       1.5 VVT GL 기본형  4,525  1,725  1,425  2,610\n",
      "2       1.5 VVT GL 기본형  4,525  1,725  1,425  2,610\n",
      "3       1.5 VVT GL 고급형  4,525  1,725  1,425  2,610\n",
      "4       1.5 VVT GL 고급형  4,525  1,725  1,425  2,610\n",
      "5      1.5 VVT GLS 기본형  4,525  1,725  1,425  2,610\n",
      "6      1.5 VVT GLS 기본형  4,525  1,725  1,425  2,610\n",
      "7   1.5 VVT DELUXE 기본형  4,525  1,725  1,425  2,610\n",
      "8   1.5 VVT DELUXE 기본형  4,525  1,725  1,425  2,610\n",
      "9     1.5 VVT GOLD 기본형  4,525  1,725  1,425  2,610\n",
      "10    1.5 VVT GOLD 기본형  4,525  1,725  1,425  2,610\n",
      "11    1.5 VVT GOLD 고급형  4,525  1,725  1,425  2,610\n",
      "12    1.5 VVT GOLD 고급형  4,525  1,725  1,425  2,610\n",
      "13   1.5 VVT GOLD 최고급형  4,525  1,725  1,425  2,610\n",
      "14   1.5 VVT GOLD 최고급형  4,525  1,725  1,425  2,610\n",
      "15    2.0 VVT GOLD 고급형  4,525  1,725  1,425  2,610\n",
      "16    2.0 VVT GOLD 고급형  4,525  1,725  1,425  2,610\n",
      "17   2.0 VVT GOLD 최고급형  4,525  1,725  1,425  2,610\n"
     ]
    },
    {
     "name": "stderr",
     "output_type": "stream",
     "text": [
      "WebPage is:   1%|▍                                                              | 544/70000 [47:45<69:48:59,  3.62s/it]"
     ]
    },
    {
     "name": "stdout",
     "output_type": "stream",
     "text": [
      "                     차종 전장(mm)  전폭(㎜)  전고(㎜)  축거(㎜)\n",
      "1    1.5 VVT SPORTS 기본형  4,520  1,720  1,425  2,610\n",
      "2    1.5 VVT SPORTS 기본형  4,520  1,720  1,425  2,610\n",
      "3    1.5 VVT SPORTS 고급형  4,520  1,720  1,425  2,610\n",
      "4    1.5 VVT SPORTS 고급형  4,520  1,720  1,425  2,610\n",
      "5   1.5 VVT SPORTS 최고급형  4,520  1,720  1,425  2,610\n",
      "6   1.5 VVT SPORTS 최고급형  4,520  1,720  1,425  2,610\n",
      "7    2.0 VVT RACING 고급형  4,520  1,720  1,425  2,610\n",
      "8    2.0 VVT RACING 고급형  4,520  1,720  1,425  2,610\n",
      "9   2.0 VVT RACING 최고급형  4,520  1,720  1,425  2,610\n",
      "10  2.0 VVT RACING 최고급형  4,520  1,720  1,425  2,610\n"
     ]
    },
    {
     "name": "stderr",
     "output_type": "stream",
     "text": [
      "WebPage is:   1%|▍                                                              | 550/70000 [48:12<72:26:48,  3.76s/it]"
     ]
    },
    {
     "name": "stdout",
     "output_type": "stream",
     "text": [
      "            차종 전장(mm)  전폭(㎜)  전고(㎜)  축거(㎜)\n",
      "1       XG R20  4,875  1,825  1,420  2,750\n",
      "2   XG R20 STD  4,875  1,825  1,420  2,750\n",
      "3   XG R20 DLX  4,875  1,825  1,420  2,750\n",
      "4   XG S20 STD  4,875  1,825  1,420  2,750\n",
      "5   XG R25 STD  4,875  1,825  1,420  2,750\n",
      "6   XG S20 DLX  4,875  1,825  1,420  2,750\n",
      "7   XG R25 DLX  4,875  1,825  1,420  2,750\n",
      "8   XG S25 STD  4,875  1,825  1,420  2,750\n",
      "9   XG S30 STD  4,875  1,825  1,420  2,750\n",
      "10  XG S25 DLX  4,875  1,825  1,420  2,750\n",
      "11  XG S25 SUP  4,875  1,825  1,420  2,750\n",
      "12  XG S30 SUP  4,875  1,825  1,420  2,750\n"
     ]
    },
    {
     "name": "stderr",
     "output_type": "stream",
     "text": [
      "WebPage is:   1%|▌                                                              | 576/70000 [50:24<74:50:43,  3.88s/it]"
     ]
    },
    {
     "name": "stdout",
     "output_type": "stream",
     "text": [
      "           차종 전장(mm)  전폭(㎜)  전고(㎜)  축거(㎜)\n",
      "1  1.3 GL STD  4,260  1,680  1,395  2,440\n",
      "2  1.5 GV STD  4,260  1,680  1,395  2,440\n",
      "3  1.5 GD STD  4,260  1,680  1,395  2,440\n",
      "4  1.5 GV DLX  4,260  1,680  1,395  2,440\n",
      "5  1.5 GD DLX  4,260  1,680  1,395  2,440\n",
      "6  1.5 GV SUP  4,260  1,680  1,395  2,440\n",
      "7  1.5 GD SUP  4,260  1,680  1,395  2,440\n"
     ]
    },
    {
     "name": "stderr",
     "output_type": "stream",
     "text": [
      "WebPage is:   1%|▌                                                              | 579/70000 [50:35<66:07:46,  3.43s/it]"
     ]
    },
    {
     "name": "stdout",
     "output_type": "stream",
     "text": [
      "           차종 전장(mm)  전폭(㎜)  전고(㎜)  축거(㎜)\n",
      "1   1.3 L STD  4,260  1,680  1,395  2,440\n",
      "2   1.3 L DLX  4,260  1,680  1,395  2,440\n",
      "3  1.3 GL STD  4,260  1,680  1,395  2,440\n",
      "4  1.5 GV STD  4,260  1,680  1,395  2,440\n",
      "5  1.5 GD STD  4,260  1,680  1,395  2,440\n",
      "6  1.5 GV DLX  4,260  1,680  1,395  2,440\n",
      "7  1.5 GD DLX  4,260  1,680  1,395  2,440\n",
      "8  1.5 GV SUP  4,260  1,680  1,395  2,440\n",
      "9  1.5 GD SUP  4,260  1,680  1,395  2,440\n"
     ]
    },
    {
     "name": "stderr",
     "output_type": "stream",
     "text": [
      "WebPage is:   1%|▌                                                              | 582/70000 [50:46<61:14:30,  3.18s/it]"
     ]
    },
    {
     "name": "stdout",
     "output_type": "stream",
     "text": [
      "           차종 전장(mm)  전폭(㎜)  전고(㎜)  축거(㎜)\n",
      "1  1.5 GD STD  4,260  1,680  1,395  2,440\n",
      "2  1.5 GD DLX  4,260  1,680  1,395  2,440\n"
     ]
    },
    {
     "name": "stderr",
     "output_type": "stream",
     "text": [
      "WebPage is:   1%|▌                                                              | 595/70000 [51:49<74:36:41,  3.87s/it]"
     ]
    },
    {
     "name": "stdout",
     "output_type": "stream",
     "text": [
      "                 차종 전장(mm)  전폭(㎜)  전고(㎜)  축거(㎜)\n",
      "1     CM400S TRIUMP  5,135  1,825  1,465  2,900\n",
      "2    CM400S MAJESTY  5,135  1,825  1,465  2,900\n",
      "3     CM500S TRIUMP  5,135  1,825  1,465  2,900\n",
      "4    CM500S MAJESTY  5,135  1,825  1,465  2,900\n",
      "5     CM600S TRIUMP  5,135  1,825  1,465  2,900\n",
      "6    CM600S MAJESTY  5,135  1,825  1,465  2,900\n",
      "7  CM600L LIMOUSINE  5,435  1,825  1,475  3,200\n"
     ]
    },
    {
     "name": "stderr",
     "output_type": "stream",
     "text": [
      "WebPage is:   1%|▌                                                              | 608/70000 [52:53<74:08:31,  3.85s/it]"
     ]
    },
    {
     "name": "stdout",
     "output_type": "stream",
     "text": [
      "            차종 전장(mm)  전폭(㎜)  전고(㎜)  축거(㎜)\n",
      "1       1.5 DK  4,250  1,670  1,495  2,480\n",
      "2       1.5 LK  4,250  1,670  1,495  2,480\n",
      "3       1.5 DK  4,250  1,670  1,495  2,480\n",
      "4  1.5 DIAMOND  4,250  1,670  1,495  2,480\n",
      "5       1.5 LK  4,250  1,670  1,495  2,480\n",
      "6  1.5 DIAMOND  4,250  1,670  1,495  2,480\n"
     ]
    },
    {
     "name": "stderr",
     "output_type": "stream",
     "text": [
      "WebPage is:   1%|▌                                                              | 611/70000 [53:04<66:38:47,  3.46s/it]"
     ]
    },
    {
     "name": "stdout",
     "output_type": "stream",
     "text": [
      "                      차종 전장(mm)  전폭(㎜)  전고(㎜)  축거(㎜)\n",
      "1         1.5 CVVT L STD  4,480  1,735  1,470  2,610\n",
      "2         1.5 CVVT L DLX  4,480  1,735  1,470  2,610\n",
      "3        1.5 CVVT LX DLX  4,480  1,735  1,470  2,610\n",
      "4        1.5 CVVT LX SUP  4,480  1,735  1,470  2,610\n",
      "5       1.5 CVVT SLX DLX  4,480  1,735  1,470  2,610\n",
      "6      1.5 CVVT GOLD SUP  4,480  1,735  1,470  2,610\n",
      "7    1.5 CVVT SLX SAFETY  4,480  1,735  1,470  2,610\n",
      "8   1.5 CVVT GOLD SAFETY  4,480  1,735  1,470  2,610\n",
      "9      2.0 CVVT GOLD SUP  4,480  1,735  1,470  2,610\n",
      "10  2.0 CVVT GOLD SAFETY  4,480  1,735  1,470  2,610\n"
     ]
    },
    {
     "name": "stderr",
     "output_type": "stream",
     "text": [
      "WebPage is:   1%|▌                                                              | 615/70000 [53:21<67:58:06,  3.53s/it]"
     ]
    },
    {
     "name": "stdout",
     "output_type": "stream",
     "text": [
      "                   차종 전장(mm)  전폭(㎜)  전고(㎜)  축거(㎜)\n",
      "1       GS 300(VALUE)  5,120  1,870  1,480  2,840\n",
      "2              GS 300  5,120  1,870  1,480  2,840\n",
      "3              JS 300  5,120  1,870  1,480  2,840\n",
      "4              GS 350  5,120  1,870  1,480  2,840\n",
      "5          JS 300 VIP  5,120  1,870  1,480  2,840\n",
      "6       JS 350(VALUE)  5,120  1,870  1,480  2,840\n",
      "7   JS 350(VALUE) VIP  5,120  1,870  1,480  2,840\n",
      "8              JS 350  5,120  1,870  1,480  2,840\n",
      "9          JS 350 VIP  5,120  1,870  1,480  2,840\n",
      "10             VS 450  5,120  1,870  1,480  2,840\n",
      "11         VS 450 VIP  5,120  1,870  1,480  2,840\n",
      "12             JL 350  5,390  1,870  1,485  3,090\n",
      "13             VL 450  5,390  1,870  1,485  3,090\n"
     ]
    },
    {
     "name": "stderr",
     "output_type": "stream",
     "text": [
      "WebPage is:   1%|▌                                                              | 637/70000 [55:11<74:11:25,  3.85s/it]"
     ]
    },
    {
     "name": "stdout",
     "output_type": "stream",
     "text": [
      "            차종 전장(mm)  전폭(㎜)  전고(㎜)  축거(㎜)\n",
      "1            L  3,495  1,595  1,480  2,370\n",
      "2       LX DLX  3,495  1,595  1,480  2,370\n",
      "3       LX SUP  3,495  1,595  1,480  2,370\n",
      "4      SLX SUP  3,495  1,595  1,480  2,370\n",
      "5   LX SPECIAL  3,495  1,595  1,480  2,370\n",
      "6  SLX SPECIAL  3,495  1,595  1,480  2,370\n"
     ]
    },
    {
     "name": "stderr",
     "output_type": "stream",
     "text": [
      "WebPage is:   1%|▌                                                              | 644/70000 [55:43<72:44:38,  3.78s/it]"
     ]
    },
    {
     "name": "stdout",
     "output_type": "stream",
     "text": [
      "         차종 전장(mm)  전폭(㎜)  전고(㎜)  축거(㎜)\n",
      "1   LUX DLX  4,515  1,725  1,445  2,600\n",
      "2   LUX SUP  4,515  1,725  1,445  2,600\n",
      "3   MAX DLX  4,515  1,725  1,445  2,600\n",
      "4   MAX SUP  4,515  1,725  1,445  2,600\n",
      "5   LUX DLX  4,515  1,725  1,445  2,600\n",
      "6   LUX SUP  4,515  1,725  1,445  2,600\n",
      "7   MAX DLX  4,515  1,725  1,445  2,600\n",
      "8   MAX SUP  4,515  1,725  1,445  2,600\n",
      "9   DIAMOND  4,515  1,725  1,445  2,600\n",
      "10  DIAMOND  4,515  1,725  1,445  2,600\n"
     ]
    },
    {
     "name": "stderr",
     "output_type": "stream",
     "text": [
      "WebPage is:   1%|▌                                                              | 647/70000 [55:54<64:32:35,  3.35s/it]"
     ]
    },
    {
     "name": "stdout",
     "output_type": "stream",
     "text": [
      "        차종 전장(mm)  전폭(㎜)  전고(㎜)  축거(㎜)\n",
      "1      LUX  4,295  1,725  1,445  2,600\n",
      "2      MAX  4,295  1,725  1,445  2,600\n",
      "3      LUX  4,295  1,725  1,445  2,600\n",
      "4      MAX  4,295  1,725  1,445  2,600\n",
      "5  DIAMOND  4,295  1,725  1,445  2,600\n",
      "6  DIAMOND  4,295  1,725  1,445  2,600\n"
     ]
    },
    {
     "name": "stderr",
     "output_type": "stream",
     "text": [
      "WebPage is:   1%|▌                                                              | 653/70000 [56:21<71:39:15,  3.72s/it]"
     ]
    },
    {
     "name": "stdout",
     "output_type": "stream",
     "text": [
      "         차종 전장(mm)  전폭(㎜)  전고(㎜)  축거(㎜)\n",
      "1       R20  4,875  1,825  1,420  2,750\n",
      "2   R20 STD  4,875  1,825  1,420  2,750\n",
      "3   R20 DLX  4,875  1,825  1,420  2,750\n",
      "4   S20 STD  4,875  1,825  1,420  2,750\n",
      "5   R25 STD  4,875  1,825  1,420  2,750\n",
      "6   S20 DLX  4,875  1,825  1,420  2,750\n",
      "7   R25 DLX  4,875  1,825  1,420  2,750\n",
      "8   S25 STD  4,875  1,825  1,420  2,750\n",
      "9   S30 DLX  4,875  1,825  1,420  2,750\n",
      "10  S25 DLX  4,875  1,825  1,420  2,750\n",
      "11  S25 SUP  4,875  1,825  1,420  2,750\n",
      "12  S30 SUP  4,875  1,825  1,420  2,750\n"
     ]
    },
    {
     "name": "stderr",
     "output_type": "stream",
     "text": [
      "WebPage is:   1%|▌                                                              | 660/70000 [56:53<72:07:26,  3.74s/it]"
     ]
    },
    {
     "name": "stdout",
     "output_type": "stream",
     "text": [
      "           차종 전장(mm)  전폭(㎜)  전고(㎜)  축거(㎜)\n",
      "1  1.3 GL STD  4,260  1,680  1,395  2,440\n",
      "2  1.5 GV STD  4,260  1,680  1,395  2,440\n",
      "3  1.5 GV DLX  4,260  1,680  1,395  2,440\n",
      "4  1.5 GD STD  4,260  1,680  1,395  2,440\n",
      "5  1.5 GD DLX  4,260  1,680  1,395  2,440\n",
      "6  1.5 GV SUP  4,260  1,680  1,395  2,440\n",
      "7  1.5 GD SUP  4,260  1,680  1,395  2,440\n"
     ]
    },
    {
     "name": "stderr",
     "output_type": "stream",
     "text": [
      "WebPage is:   1%|▌                                                              | 663/70000 [57:05<65:15:03,  3.39s/it]"
     ]
    },
    {
     "name": "stdout",
     "output_type": "stream",
     "text": [
      "           차종 전장(mm)  전폭(㎜)  전고(㎜)  축거(㎜)\n",
      "1   1.3 L STD  4,260  1,680  1,395  2,440\n",
      "2   1.3 L DLX  4,260  1,680  1,395  2,440\n",
      "3  1.3 GL STD  4,260  1,680  1,395  2,440\n",
      "4  1.5 GV STD  4,260  1,680  1,395  2,440\n",
      "5  1.5 GV DLX  4,260  1,680  1,395  2,440\n",
      "6  1.5 GD STD  4,260  1,680  1,395  2,440\n",
      "7  1.5 GD DLX  4,260  1,680  1,395  2,440\n",
      "8  1.5 GV SUP  4,260  1,680  1,395  2,440\n",
      "9  1.5 GD SUP  4,260  1,680  1,395  2,440\n"
     ]
    },
    {
     "name": "stderr",
     "output_type": "stream",
     "text": [
      "WebPage is:   1%|▌                                                              | 673/70000 [57:52<73:29:25,  3.82s/it]"
     ]
    },
    {
     "name": "stdout",
     "output_type": "stream",
     "text": [
      "            차종 전장(mm)  전폭(㎜)  전고(㎜)  축거(㎜)\n",
      "1            L  3,495  1,595  1,480  2,370\n",
      "2       LX DLX  3,495  1,595  1,480  2,370\n",
      "3       LX SUP  3,495  1,595  1,480  2,370\n",
      "4      SLX SUP  3,495  1,595  1,480  2,370\n",
      "5   LX SPECIAL  3,495  1,595  1,480  2,370\n",
      "6  SLX SPECIAL  3,495  1,595  1,480  2,370\n"
     ]
    },
    {
     "name": "stderr",
     "output_type": "stream",
     "text": [
      "WebPage is:   1%|▌                                                              | 676/70000 [58:04<65:48:40,  3.42s/it]"
     ]
    },
    {
     "name": "stdout",
     "output_type": "stream",
     "text": [
      "                      차종 전장(mm)  전폭(㎜)  전고(㎜)  축거(㎜)\n",
      "1         1.5 CVVT L STD  4,480  1,735  1,470  2,610\n",
      "2         1.5 CVVT L DLX  4,480  1,735  1,470  2,610\n",
      "3        1.5 CVVT LX DLX  4,480  1,735  1,470  2,610\n",
      "4        1.5 CVVT LX SUP  4,480  1,735  1,470  2,610\n",
      "5       1.5 CVVT SLX DLX  4,480  1,735  1,470  2,610\n",
      "6      1.5 CVVT GOLD SUP  4,480  1,735  1,470  2,610\n",
      "7    1.5 CVVT SLX SAFETY  4,480  1,735  1,470  2,610\n",
      "8   1.5 CVVT GOLD SAFETY  4,480  1,735  1,470  2,610\n",
      "9      2.0 CVVT GOLD SUP  4,480  1,735  1,470  2,610\n",
      "10  2.0 CVVT GOLD SAFETY  4,480  1,735  1,470  2,610\n"
     ]
    },
    {
     "name": "stderr",
     "output_type": "stream",
     "text": [
      "WebPage is:   1%|▌                                                              | 682/70000 [58:31<70:35:28,  3.67s/it]"
     ]
    },
    {
     "name": "stdout",
     "output_type": "stream",
     "text": [
      "                 차종 전장(mm)  전폭(㎜)  전고(㎜)  축거(㎜)\n",
      "1     CM400S TRIUMP  5,135  1,825  1,465  2,900\n",
      "2    CM400S MAJESTY  5,135  1,825  1,465  2,900\n",
      "3     CM500S TRIUMP  5,135  1,825  1,465  2,900\n",
      "4    CM500S MAJESTY  5,135  1,825  1,465  2,900\n",
      "5     CM600S TRIUMP  5,135  1,825  1,465  2,900\n",
      "6    CM600S MAJESTY  5,135  1,825  1,465  2,900\n",
      "7  CM600L LIMOUSINE  5,435  1,825  1,475  3,200\n"
     ]
    },
    {
     "name": "stderr",
     "output_type": "stream",
     "text": [
      "WebPage is:   1%|▌                                                              | 686/70000 [58:47<66:24:04,  3.45s/it]"
     ]
    },
    {
     "name": "stdout",
     "output_type": "stream",
     "text": [
      "              차종 전장(mm)  전폭(㎜)  전고(㎜)  축거(㎜)\n",
      "1    COACH 5 DLX  3,230  1,400  1,920  1,840\n",
      "2    COACH 7 DLX  3,230  1,400  1,920  1,840\n",
      "3  COACH 5 SUPER  3,230  1,400  1,920  1,840\n",
      "4  COACH 7 SUPER  3,230  1,400  1,920  1,840\n"
     ]
    },
    {
     "name": "stderr",
     "output_type": "stream",
     "text": [
      "WebPage is:   1%|▌                                                            | 705/70000 [1:00:22<76:24:40,  3.97s/it]"
     ]
    },
    {
     "name": "stdout",
     "output_type": "stream",
     "text": [
      "                  차종 전장(mm)  전폭(㎜)  전고(㎜)  축거(㎜)\n",
      "1      RX5 TI CT STD  4,795  1,870  1,760  2,820\n",
      "2      RX5 TI CT DLX  4,795  1,870  1,760  2,820\n",
      "3         RX5 TI STD  4,795  1,870  1,760  2,820\n",
      "4      RX5 TI CT STD  4,795  1,870  1,760  2,820\n",
      "5         RX5 TI DLX  4,795  1,870  1,760  2,820\n",
      "6      RX5 TI CT DLX  4,795  1,870  1,760  2,820\n",
      "7         RX5 TI STD  4,795  1,870  1,760  2,820\n",
      "8         RX5 TI DLX  4,795  1,870  1,760  2,820\n",
      "9        RX5 EDI DLX  4,795  1,870  1,760  2,820\n",
      "10       RX5 EDI SUP  4,795  1,870  1,760  2,820\n",
      "11       RX5 EDI DLX  4,795  1,870  1,760  2,820\n",
      "12       RX5 EDI SUP  4,795  1,870  1,760  2,820\n",
      "13  RX5 EDI NOBLESSE  4,795  1,870  1,760  2,820\n"
     ]
    },
    {
     "name": "stderr",
     "output_type": "stream",
     "text": [
      "WebPage is:   1%|▌                                                            | 708/70000 [1:00:33<67:06:06,  3.49s/it]"
     ]
    },
    {
     "name": "stdout",
     "output_type": "stream",
     "text": [
      "                                  차종 전장(mm)  전폭(㎜)  전고(㎜)  축거(㎜)\n",
      "1                     EX 290 2WD STD  4,710  1,860  1,795  2,750\n",
      "2                     JX 290 2WD STD  4,710  1,860  1,795  2,750\n",
      "3                     JX 290 2WD DLX  4,710  1,860  1,795  2,750\n",
      "4                     JX 290 4WD SUP  4,710  1,860  1,795  2,750\n",
      "5       JX 290 4WD SUP BLACK SPECIAL  4,710  1,860  1,795  2,750\n",
      "6                JX 290 GOLD 4WD DLX  4,710  1,860  1,795  2,750\n",
      "7  JX 290 GOLD 4WD DLX BLACK SPECIAL  4,710  1,860  1,795  2,750\n",
      "8                JX 290 GOLD 4WD SUP  4,710  1,860  1,795  2,750\n",
      "9  JX 290 GOLD 4WD SUP BLACK SPECIAL  4,710  1,860  1,795  2,750\n"
     ]
    },
    {
     "name": "stderr",
     "output_type": "stream",
     "text": [
      "WebPage is:   1%|▌                                                            | 711/70000 [1:00:44<62:27:43,  3.25s/it]"
     ]
    },
    {
     "name": "stdout",
     "output_type": "stream",
     "text": [
      "                   차종 전장(mm)  전폭(㎜)  전고(㎜)  축거(㎜)\n",
      "1          9 TRIP DSL  4,930  1,895  1,770  2,910\n",
      "2          9 LAND DSL  4,930  1,895  1,770  2,910\n",
      "3          9 PARK DSL  4,930  1,895  1,770  2,910\n",
      "4  9 PARK DSL PREMIUM  4,930  1,895  1,770  2,910\n",
      "5          7 PARK GSL  4,930  1,895  1,770  2,910\n"
     ]
    },
    {
     "name": "stderr",
     "output_type": "stream",
     "text": [
      "WebPage is:   1%|▋                                                            | 721/70000 [1:01:33<75:59:42,  3.95s/it]"
     ]
    },
    {
     "name": "stdout",
     "output_type": "stream",
     "text": [
      "                           차종 전장(mm)  전폭(㎜)  전고(㎜)  축거(㎜)\n",
      "1     1.5 CVVT SLX WELL-BEING  4,480  1,735  1,470  2,610\n",
      "2             1.5 CVVT SPORTS  4,480  1,735  1,470  2,610\n",
      "3        2.0 CVVT GOLD SPORTS  4,480  1,735  1,470  2,610\n",
      "4           1.5 CVVT GOLD PRM  4,480  1,735  1,470  2,610\n",
      "5   1.5 CVVT GOLD PRM SPECIAL  4,480  1,735  1,470  2,610\n",
      "6   2.0 CVVT GOLD PRM SPECIAL  4,480  1,735  1,470  2,610\n",
      "7            1.5 CVVT SLX DLX  4,340  1,735  1,470  2,610\n",
      "8     1.5 CVVT SLX WELL-BEING  4,340  1,735  1,470  2,610\n",
      "9           1.5 CVVT GOLD SUP  4,340  1,735  1,470  2,610\n",
      "10       1.5 CVVT GOLD SPORTS  4,340  1,735  1,470  2,610\n",
      "11       1.5 CVVT GOLD SAFETY  4,340  1,735  1,470  2,610\n",
      "12          1.5 CVVT GOLD PRM  4,340  1,735  1,470  2,610\n",
      "13       2.0 CVVT GOLD SPORTS  4,340  1,735  1,470  2,610\n",
      "14  1.5 CVVT GOLD PRM SPECIAL  4,340  1,735  1,470  2,610\n",
      "15  2.0 CVVT GOLD PRM SPECIAL  4,340  1,735  1,470  2,610\n"
     ]
    },
    {
     "name": "stderr",
     "output_type": "stream",
     "text": [
      "WebPage is:   1%|▋                                                            | 724/70000 [1:01:44<65:56:39,  3.43s/it]"
     ]
    },
    {
     "name": "stdout",
     "output_type": "stream",
     "text": [
      "           차종 전장(mm)  전폭(㎜)  전고(㎜)  축거(㎜)\n",
      "1  1.3 GL STD  4,260  1,680  1,395  2,440\n",
      "2  1.5 GV STD  4,260  1,680  1,395  2,440\n",
      "3  1.5 GD STD  4,260  1,680  1,395  2,440\n",
      "4  1.5 GV DLX  4,260  1,680  1,395  2,440\n",
      "5  1.5 GD DLX  4,260  1,680  1,395  2,440\n",
      "6  1.5 GV SUP  4,260  1,680  1,395  2,440\n",
      "7  1.5 GD SUP  4,260  1,680  1,395  2,440\n"
     ]
    },
    {
     "name": "stderr",
     "output_type": "stream",
     "text": [
      "WebPage is:   1%|▋                                                            | 728/70000 [1:02:00<66:43:39,  3.47s/it]"
     ]
    },
    {
     "name": "stdout",
     "output_type": "stream",
     "text": [
      "           차종 전장(mm)  전폭(㎜)  전고(㎜)  축거(㎜)\n",
      "1   1.3 L STD  4,215  1,680  1,395  2,440\n",
      "2   1.3 L DLX  4,215  1,680  1,395  2,440\n",
      "3  1.3 GL STD  4,215  1,680  1,395  2,440\n",
      "4  1.5 GV STD  4,215  1,680  1,395  2,440\n",
      "5  1.5 GD STD  4,215  1,680  1,395  2,440\n",
      "6  1.5 GV DLX  4,215  1,680  1,395  2,440\n",
      "7  1.5 GD DLX  4,215  1,680  1,395  2,440\n",
      "8  1.5 GV SUP  4,215  1,680  1,395  2,440\n",
      "9  1.5 GD SUP  4,215  1,680  1,395  2,440\n"
     ]
    },
    {
     "name": "stderr",
     "output_type": "stream",
     "text": [
      "WebPage is:   1%|▋                                                            | 737/70000 [1:02:43<73:06:44,  3.80s/it]"
     ]
    },
    {
     "name": "stdout",
     "output_type": "stream",
     "text": [
      "                        차종 전장(mm)  전폭(㎜)  전고(㎜)  축거(㎜)\n",
      "1         1.6 CVVT SLX DLX  4,480  1,735  1,470  2,610\n",
      "2  1.6 CVVT SLX WELL-BEING  4,480  1,735  1,470  2,610\n",
      "3        1.6 CVVT GOLD SUP  4,480  1,735  1,470  2,610\n",
      "4          1.6 CVVT SPORTS  4,480  1,735  1,470  2,610\n",
      "5     1.6 CVVT GOLD SAFETY  4,480  1,735  1,470  2,610\n",
      "6        1.6 CVVT GOLD PRM  4,480  1,735  1,470  2,610\n"
     ]
    },
    {
     "name": "stderr",
     "output_type": "stream",
     "text": [
      "WebPage is:   1%|▋                                                            | 741/70000 [1:02:59<67:13:02,  3.49s/it]"
     ]
    },
    {
     "name": "stdout",
     "output_type": "stream",
     "text": [
      "                     차종 전장(mm)  전폭(㎜)  전고(㎜)  축거(㎜)\n",
      "1      1.6 CVVT SLX DLX  4,340  1,735  1,470  2,610\n",
      "2  1.6 CVVT GOLD SPORTS  4,340  1,735  1,470  2,610\n",
      "3  1.6 CVVT GOLD SAFETY  4,340  1,735  1,470  2,610\n",
      "4     1.6 CVVT GOLD PRM  4,340  1,735  1,470  2,610\n"
     ]
    },
    {
     "name": "stderr",
     "output_type": "stream",
     "text": [
      "WebPage is:   1%|▋                                                            | 744/70000 [1:03:11<62:53:11,  3.27s/it]"
     ]
    },
    {
     "name": "stdout",
     "output_type": "stream",
     "text": [
      "           차종 전장(mm)  전폭(㎜)  전고(㎜)  축거(㎜)\n",
      "1  1.6 LS STD  4,025  1,740  1,635  2,600\n",
      "2  1.6 LS DLX  4,025  1,740  1,635  2,600\n",
      "3  1.6 TR STD  4,025  1,740  1,635  2,600\n",
      "4  1.6 TR DLX  4,025  1,740  1,635  2,600\n",
      "5  1.6 CR STD  4,025  1,740  1,635  2,600\n",
      "6  1.6 CR DLX  4,025  1,740  1,635  2,600\n",
      "7  1.6 CR SUP  4,025  1,740  1,635  2,600\n"
     ]
    },
    {
     "name": "stderr",
     "output_type": "stream",
     "text": [
      "WebPage is:   1%|▋                                                            | 747/70000 [1:03:23<67:58:07,  3.53s/it]"
     ]
    },
    {
     "name": "stdout",
     "output_type": "stream",
     "text": [
      "                    차종 전장(mm)  전폭(㎜)  전고(㎜)  축거(㎜)\n",
      "1       1.5 VVT GL 기본형  4,525  1,725  1,425  2,610\n",
      "2       1.5 VVT GL 기본형  4,525  1,725  1,425  2,610\n",
      "3       1.5 VVT GL 고급형  4,525  1,725  1,425  2,610\n",
      "4       1.5 VVT GL 고급형  4,525  1,725  1,425  2,610\n",
      "5      1.5 VVT GLS 기본형  4,525  1,725  1,425  2,610\n",
      "6      1.5 VVT GLS 기본형  4,525  1,725  1,425  2,610\n",
      "7   1.5 VVT DELUXE 기본형  4,525  1,725  1,425  2,610\n",
      "8   1.5 VVT DELUXE 기본형  4,525  1,725  1,425  2,610\n",
      "9    1.5 VVT NYMPH 기본형  4,525  1,725  1,425  2,610\n",
      "10   1.5 VVT NYMPH 기본형  4,525  1,725  1,425  2,610\n",
      "11    1.5 VVT GOLD 기본형  4,525  1,725  1,425  2,610\n",
      "12    1.5 VVT GOLD 기본형  4,525  1,725  1,425  2,610\n",
      "13    1.5 VVT GOLD 고급형  4,525  1,725  1,425  2,610\n",
      "14    1.5 VVT GOLD 고급형  4,525  1,725  1,425  2,610\n",
      "15   1.5 VVT GOLD 최고급형  4,525  1,725  1,425  2,610\n",
      "16   1.5 VVT GOLD 최고급형  4,525  1,725  1,425  2,610\n",
      "17  1.6 VVT DELUXE 기본형  4,525  1,725  1,425  2,610\n",
      "18  1.6 VVT DELUXE 기본형  4,525  1,725  1,425  2,610\n",
      "19    1.6 VVT GOLD 기본형  4,525  1,725  1,425  2,610\n",
      "20    1.6 VVT GOLD 기본형  4,525  1,725  1,425  2,610\n",
      "21    1.6 VVT GOLD 고급형  4,525  1,725  1,425  2,610\n",
      "22    1.6 VVT GOLD 고급형  4,525  1,725  1,425  2,610\n",
      "23   1.6 VVT GOLD 최고급형  4,525  1,725  1,425  2,610\n",
      "24   1.6 VVT GOLD 최고급형  4,525  1,725  1,425  2,610\n",
      "25    2.0 VVT GOLD 기본형  4,525  1,725  1,425  2,610\n",
      "26    2.0 VVT GOLD 기본형  4,525  1,725  1,425  2,610\n",
      "27    2.0 VVT GOLD 고급형  4,525  1,725  1,425  2,610\n",
      "28    2.0 VVT GOLD 고급형  4,525  1,725  1,425  2,610\n"
     ]
    },
    {
     "name": "stderr",
     "output_type": "stream",
     "text": [
      "WebPage is:   1%|▋                                                            | 750/70000 [1:03:34<64:53:35,  3.37s/it]"
     ]
    },
    {
     "name": "stdout",
     "output_type": "stream",
     "text": [
      "                     차종 전장(mm)  전폭(㎜)  전고(㎜)  축거(㎜)\n",
      "1    1.5 VVT SPORTS 기본형  4,520  1,720  1,425  2,610\n",
      "2    1.5 VVT SPORTS 기본형  4,520  1,720  1,425  2,610\n",
      "3    1.5 VVT SPORTS 고급형  4,520  1,720  1,425  2,610\n",
      "4    1.5 VVT SPORTS 고급형  4,520  1,720  1,425  2,610\n",
      "5   1.5 VVT SPORTS 최고급형  4,520  1,720  1,425  2,610\n",
      "6   1.5 VVT SPORTS 최고급형  4,520  1,720  1,425  2,610\n",
      "7    1.6 VVT SPORTS 기본형  4,520  1,720  1,425  2,610\n",
      "8    1.6 VVT SPORTS 기본형  4,520  1,720  1,425  2,610\n",
      "9    2.0 VVT RACING 고급형  4,520  1,720  1,425  2,610\n",
      "10   2.0 VVT RACING 고급형  4,520  1,720  1,425  2,610\n",
      "11  2.0 VVT RACING 최고급형  4,520  1,720  1,425  2,610\n",
      "12  2.0 VVT RACING 최고급형  4,520  1,720  1,425  2,610\n"
     ]
    },
    {
     "name": "stderr",
     "output_type": "stream",
     "text": [
      "WebPage is:   1%|▋                                                            | 757/70000 [1:04:06<71:18:09,  3.71s/it]"
     ]
    },
    {
     "name": "stdout",
     "output_type": "stream",
     "text": [
      "            차종 전장(mm)  전폭(㎜)  전고(㎜)  축거(㎜)\n",
      "1       1.5 DK  4,250  1,670  1,495  2,480\n",
      "2       1.5 LK  4,250  1,670  1,495  2,480\n",
      "3       1.5 DK  4,250  1,670  1,495  2,480\n",
      "4  1.5 DIAMOND  4,250  1,670  1,495  2,480\n",
      "5       1.5 LK  4,250  1,670  1,495  2,480\n",
      "6  1.5 DIAMOND  4,250  1,670  1,495  2,480\n"
     ]
    },
    {
     "name": "stderr",
     "output_type": "stream",
     "text": [
      "WebPage is:   1%|▋                                                            | 760/70000 [1:04:18<66:01:56,  3.43s/it]"
     ]
    },
    {
     "name": "stdout",
     "output_type": "stream",
     "text": [
      "                                 차종 전장(mm)  전폭(㎜)  전고(㎜)  축거(㎜)\n",
      "1                  2.0 D 2WD LX DLX  4,350  1,820  1,695  2,630\n",
      "2                  2.0 D 2WD LX SUP  4,350  1,840  1,730  2,630\n",
      "3                 2.0 D 2WD TLX DLX  4,350  1,840  1,730  2,630\n",
      "4                 2.0 D 2WD TLX SUP  4,350  1,840  1,730  2,630\n",
      "5        2.0 D 2WD LX BROWN PREMIUM  4,350  1,840  1,730  2,630\n",
      "6         2.0 D 2WD LX BLUE PREMIUM  4,350  1,840  1,730  2,630\n",
      "7       2.0 D 2WD TLX BROWN PREMIUM  4,350  1,840  1,730  2,630\n",
      "8        2.0 D 2WD TLX BLUE PREMIUM  4,350  1,840  1,730  2,630\n",
      "9             2.0 D 2WD LIMITED DLX  4,350  1,840  1,730  2,630\n",
      "10            2.0 D 2WD LIMITED SUP  4,350  1,840  1,730  2,630\n",
      "11  2.0 D 2WD LIMITED BROWN PREMIUM  4,350  1,840  1,730  2,630\n",
      "12   2.0 D 2WD LIMITED BLUE PREMIUM  4,350  1,840  1,730  2,630\n"
     ]
    },
    {
     "name": "stderr",
     "output_type": "stream",
     "text": [
      "WebPage is:   1%|▋                                                            | 763/70000 [1:04:29<63:46:32,  3.32s/it]"
     ]
    },
    {
     "name": "stdout",
     "output_type": "stream",
     "text": [
      "                                 차종 전장(mm)  전폭(㎜)  전고(㎜)  축거(㎜)\n",
      "1                  2.0 D 4WD LX DLX  4,350  1,820  1,695  2,630\n",
      "2                  2.0 D 4WD LX SUP  4,350  1,840  1,730  2,630\n",
      "3                 2.0 D 4WD TLX DLX  4,350  1,840  1,730  2,630\n",
      "4                 2.0 D 4WD TLX SUP  4,350  1,840  1,730  2,630\n",
      "5        2.0 D 4WD LX BROWN PREMIUM  4,350  1,840  1,730  2,630\n",
      "6         2.0 D 4WD LX BLUE PREMIUM  4,350  1,840  1,730  2,630\n",
      "7       2.0 D 4WD TLX BROWN PREMIUM  4,350  1,840  1,730  2,630\n",
      "8        2.0 D 4WD TLX BLUE PREMIUM  4,350  1,840  1,730  2,630\n",
      "9             2.0 D 4WD LIMITED DLX  4,350  1,840  1,730  2,630\n",
      "10            2.0 D 4WD LIMITED SUP  4,350  1,840  1,730  2,630\n",
      "11  2.0 D 4WD LIMITED BROWN PREMIUM  4,350  1,840  1,730  2,630\n",
      "12   2.0 D 4WD LIMITED BLUE PREMIUM  4,350  1,840  1,730  2,630\n"
     ]
    },
    {
     "name": "stderr",
     "output_type": "stream",
     "text": [
      "WebPage is:   1%|▋                                                            | 766/70000 [1:04:40<60:15:25,  3.13s/it]"
     ]
    },
    {
     "name": "stdout",
     "output_type": "stream",
     "text": [
      "                      차종 전장(mm)  전폭(㎜)  전고(㎜)  축거(㎜)\n",
      "1  2.0 CVVT 2WD GASOLINE  4,350  1,840  1,730  2,630\n"
     ]
    },
    {
     "name": "stderr",
     "output_type": "stream",
     "text": [
      "WebPage is:   1%|▋                                                            | 776/70000 [1:05:29<78:21:55,  4.08s/it]"
     ]
    },
    {
     "name": "stdout",
     "output_type": "stream",
     "text": [
      "                                  차종 전장(mm)  전폭(㎜)  전고(㎜)  축거(㎜)\n",
      "1                    2.0 N20 STD M/T  4,800  1,830  1,475  2,730\n",
      "2             2.0 N20 Deluxe M/T STD  4,800  1,830  1,475  2,730\n",
      "3             2.0 N20 Deluxe M/T DLX  4,800  1,830  1,475  2,730\n",
      "4             2.0 N20 Luxury M/T STD  4,800  1,830  1,475  2,730\n",
      "5                    2.0 N20 STD A/T  4,800  1,830  1,475  2,730\n",
      "6             2.0 N20 Deluxe A/T STD  4,800  1,830  1,475  2,730\n",
      "7             2.0 N20 Luxury M/T DLX  4,800  1,830  1,475  2,730\n",
      "8             2.0 N20 Deluxe A/T DLX  4,800  1,830  1,475  2,730\n",
      "9             2.0 N20 Luxury A/T STD  4,800  1,830  1,475  2,730\n",
      "10  2.0 N20 Elegance Special A/T STD  4,800  1,830  1,475  2,730\n",
      "11            2.0 N20 Luxury A/T DLX  4,800  1,830  1,475  2,730\n",
      "12  2.0 N20 Elegance Special A/T DLX  4,800  1,830  1,475  2,730\n",
      "13           2.0 N20 Premier A/T STD  4,800  1,830  1,475  2,730\n",
      "14           2.0 N20 Premier A/T DLX  4,800  1,830  1,475  2,730\n",
      "15  2.0 N20 Elegance Special A/T SUP  4,800  1,830  1,475  2,730\n",
      "16            2.4 F24 Luxury A/T STD  4,800  1,830  1,475  2,730\n",
      "17           2.0 N20 Premier A/T SUP  4,800  1,830  1,475  2,730\n",
      "18            2.4 F24 Luxury A/T DLX  4,800  1,830  1,475  2,730\n",
      "19           2.4 F24 Premier A/T STD  4,800  1,830  1,475  2,730\n",
      "20           2.4 F24S Luxury A/T STD  4,800  1,830  1,475  2,730\n",
      "21           2.4 F24S Luxury A/T DLX  4,800  1,830  1,475  2,730\n",
      "22          2.4 F24S Premier A/T STD  4,800  1,830  1,475  2,730\n",
      "23           2.4 F24S Luxury A/T SUP  4,800  1,830  1,475  2,730\n",
      "24           2.4 F24 Premier A/T DLX  4,800  1,830  1,475  2,730\n",
      "25          2.4 F24S Premier A/T DLX  4,800  1,830  1,475  2,730\n"
     ]
    },
    {
     "name": "stderr",
     "output_type": "stream",
     "text": [
      "WebPage is:   1%|▋                                                            | 789/70000 [1:06:32<73:49:21,  3.84s/it]"
     ]
    },
    {
     "name": "stdout",
     "output_type": "stream",
     "text": [
      "                 차종 전장(mm)  전폭(㎜)  전고(㎜)  축거(㎜)\n",
      "1           1.6 LUX  4,515  1,725  1,445  2,600\n",
      "2           1.6 MAX  4,515  1,725  1,445  2,600\n",
      "3      1.6 LUX AUTO  4,515  1,725  1,445  2,600\n",
      "4       1.6 DIAMOND  4,515  1,725  1,445  2,600\n",
      "5      1.6 MAX AUTO  4,515  1,725  1,445  2,600\n",
      "6  1.6 DIAMOND AUTO  4,515  1,725  1,445  2,600\n"
     ]
    },
    {
     "name": "stderr",
     "output_type": "stream",
     "text": [
      "WebPage is:   1%|▋                                                            | 792/70000 [1:06:43<65:09:00,  3.39s/it]"
     ]
    },
    {
     "name": "stdout",
     "output_type": "stream",
     "text": [
      "                 차종 전장(mm)  전폭(㎜)  전고(㎜)  축거(㎜)\n",
      "1           1.6 LUX  4,295  1,725  1,445  2,600\n",
      "2           1.6 MAX  4,295  1,725  1,445  2,600\n",
      "3      1.6 LUX AUTO  4,295  1,725  1,445  2,600\n",
      "4      1.6 MAX AUTO  4,295  1,725  1,445  2,600\n",
      "5       1.6 DIAMOND  4,295  1,725  1,445  2,600\n",
      "6  1.6 DIAMOND AUTO  4,295  1,725  1,445  2,600\n"
     ]
    },
    {
     "name": "stderr",
     "output_type": "stream",
     "text": [
      "WebPage is:   1%|▋                                                            | 815/70000 [1:08:39<73:34:16,  3.83s/it]"
     ]
    },
    {
     "name": "stdout",
     "output_type": "stream",
     "text": [
      "       차종 전장(mm)  전폭(㎜)  전고(㎜)  축거(㎜)\n",
      "1  2.3 SE  4,945  1,790  1,475  2,775\n",
      "2  2.3 XE  4,945  1,790  1,475  2,775\n",
      "3  2.3 LE  4,945  1,790  1,475  2,775\n",
      "4  3.5 XE  4,945  1,790  1,475  2,775\n",
      "5  3.5 RE  4,945  1,790  1,475  2,775\n"
     ]
    },
    {
     "name": "stderr",
     "output_type": "stream",
     "text": [
      "WebPage is:   1%|▋                                                            | 818/70000 [1:08:50<64:23:11,  3.35s/it]"
     ]
    },
    {
     "name": "stdout",
     "output_type": "stream",
     "text": [
      "           차종 전장(mm)  전폭(㎜)  전고(㎜)  축거(㎜)\n",
      "1  2.0 PE A/T  4,895  1,785  1,475  2,775\n",
      "2  2.0 SE A/T  4,895  1,785  1,475  2,775\n",
      "3  2.0 XE A/T  4,895  1,785  1,475  2,775\n",
      "4  2.0 LE A/T  4,895  1,785  1,475  2,775\n"
     ]
    },
    {
     "name": "stderr",
     "output_type": "stream",
     "text": [
      "WebPage is:   1%|▋                                                            | 821/70000 [1:09:01<63:28:47,  3.30s/it]"
     ]
    },
    {
     "name": "stdout",
     "output_type": "stream",
     "text": [
      "               차종 전장(mm)  전폭(㎜)  전고(㎜)  축거(㎜)\n",
      "1    0.8 City STD  3,495  1,495  1,500  2,345\n",
      "2    0.8 City DLX  3,495  1,495  1,500  2,345\n",
      "3     0.8 Joy STD  3,495  1,495  1,500  2,345\n",
      "4     0.8 Joy DLX  3,495  1,495  1,500  2,345\n",
      "5   0.8 Super STD  3,495  1,495  1,500  2,345\n",
      "6    0.8 City STD  3,495  1,495  1,500  2,345\n",
      "7   0.8 Super DLX  3,495  1,495  1,500  2,345\n",
      "8    0.8 City DLX  3,495  1,495  1,500  2,345\n",
      "9     0.8 Joy STD  3,495  1,495  1,500  2,345\n",
      "10    0.8 Joy DLX  3,495  1,495  1,500  2,345\n",
      "11  0.8 Super STD  3,495  1,495  1,500  2,345\n",
      "12  0.8 Super DLX  3,495  1,495  1,500  2,345\n"
     ]
    },
    {
     "name": "stderr",
     "output_type": "stream",
     "text": [
      "WebPage is:   1%|▋                                                            | 825/70000 [1:09:18<66:56:01,  3.48s/it]"
     ]
    },
    {
     "name": "stdout",
     "output_type": "stream",
     "text": [
      "                  차종 전장(mm)  전폭(㎜)  전고(㎜)  축거(㎜)\n",
      "1      CM400S TRIUMP  5,135  1,825  1,465  2,900\n",
      "2     CM400S MAJESTY  5,135  1,825  1,465  2,900\n",
      "3   CM400S MAJESTY S  5,135  1,825  1,465  2,900\n",
      "4     CM500S TRIUMPH  5,135  1,825  1,465  2,900\n",
      "5     CM500S MAJESTY  5,135  1,825  1,465  2,900\n",
      "6   CM500S MAJESTY S  5,135  1,825  1,465  2,900\n",
      "7     CM600S TRIUMPH  5,135  1,825  1,465  2,900\n",
      "8     CM600S MAJESTY  5,135  1,825  1,465  2,900\n",
      "9   CM600S MAJESTY S  5,135  1,825  1,465  2,900\n",
      "10  CM600L LIMOUSINE  5,435  1,825  1,475  3,200\n"
     ]
    },
    {
     "name": "stderr",
     "output_type": "stream",
     "text": [
      "WebPage is:   1%|▋                                                            | 828/70000 [1:09:29<64:09:53,  3.34s/it]"
     ]
    },
    {
     "name": "stdout",
     "output_type": "stream",
     "text": [
      "                           차종 전장(mm)  전폭(㎜)  전고(㎜)  축거(㎜)\n",
      "1   GH 270 WELL-BEING SPECIAL  4,980  1,850  1,485  2,800\n",
      "2                  GH 270 DLX  4,980  1,850  1,485  2,800\n",
      "3              GH 270 DLX LUX  4,980  1,850  1,485  2,800\n",
      "4                  GH 270 SUP  4,980  1,850  1,485  2,800\n",
      "5              GH 270 SUP LUX  4,980  1,850  1,485  2,800\n",
      "6                  GH 300 DLX  4,980  1,850  1,485  2,800\n",
      "7              GH 300 DLX LUX  4,980  1,850  1,485  2,800\n",
      "8                  GH 300 SUP  4,980  1,850  1,485  2,800\n",
      "9          GH 300 SUP PREMIUM  4,980  1,850  1,485  2,800\n",
      "10                 GH 380 SUP  4,980  1,850  1,485  2,800\n",
      "11         GH 380 SUP PREMIUM  4,980  1,850  1,485  2,800\n"
     ]
    },
    {
     "name": "stderr",
     "output_type": "stream",
     "text": [
      "WebPage is:   1%|▋                                                            | 834/70000 [1:09:57<74:05:02,  3.86s/it]"
     ]
    },
    {
     "name": "stdout",
     "output_type": "stream",
     "text": [
      "                                   차종 전장(mm)  전폭(㎜)  전고(㎜)  축거(㎜)\n",
      "1                         2.0 N20 STD  4,800  1,830  1,475  2,730\n",
      "2                  2.0 N20 Deluxe STD  4,800  1,830  1,475  2,730\n",
      "3                    2.0 N20 STD AUTO  4,800  1,830  1,475  2,730\n",
      "4                  2.0 N20 Luxury STD  4,800  1,830  1,475  2,730\n",
      "5             2.0 N20 Deluxe AUTO STD  4,800  1,830  1,475  2,730\n",
      "6             2.0 N20 Luxury AUTO STD  4,800  1,830  1,475  2,730\n",
      "7             2.0 N20 Deluxe AUTO DLX  4,800  1,830  1,475  2,730\n",
      "8             2.0 N20 Luxury AUTO DLX  4,800  1,830  1,475  2,730\n",
      "9   2.0 N20 Elegance Special AUTO STD  4,800  1,830  1,475  2,730\n",
      "10  2.0 N20 Elegance Special AUTO DLX  4,800  1,830  1,475  2,730\n",
      "11           2.0 N20 Premier AUTO STD  4,800  1,830  1,475  2,730\n",
      "12  2.0 N20 Elegance Special AUTO SUP  4,800  1,830  1,475  2,730\n",
      "13           2.0 N20 Premier AUTO DLX  4,800  1,830  1,475  2,730\n",
      "14           2.0 N20 Premier AUTO SUP  4,800  1,830  1,475  2,730\n",
      "15  2.4 F24 Elegance SPECIAL AUTO STD  4,800  1,830  1,475  2,730\n",
      "16           2.4 F24 Premier AUTO STD  4,800  1,830  1,475  2,730\n",
      "17  2.4 F24 Elegance SPECIAL AUTO DLX  4,800  1,830  1,475  2,730\n",
      "18          2.4 F24S Premier AUTO STD  4,800  1,830  1,475  2,730\n",
      "19           2.4 F24 Premier AUTO DLX  4,800  1,830  1,475  2,730\n",
      "20          2.4 F24S Premier AUTO DLX  4,800  1,830  1,475  2,730\n",
      "21           3.3 V33 PREMIER AUTO STD  4,800  1,830  1,475  2,730\n"
     ]
    },
    {
     "name": "stderr",
     "output_type": "stream",
     "text": [
      "WebPage is:   1%|▋                                                            | 847/70000 [1:11:00<74:11:53,  3.86s/it]"
     ]
    },
    {
     "name": "stdout",
     "output_type": "stream",
     "text": [
      "                     차종 전장(mm)  전폭(㎜)  전고(㎜)  축거(㎜)\n",
      "1            1.5 VGT LX  4,240  1,695  1,470  2,500\n",
      "2           1.5 VGT SLX  4,240  1,695  1,470  2,500\n",
      "3            1.4 DOHC L  4,240  1,695  1,470  2,500\n",
      "4           1.4 DOHC LX  4,240  1,695  1,470  2,500\n",
      "5          1.6 CVVT SLX  4,240  1,695  1,470  2,500\n",
      "6         1.6 CVVT GOLD  4,240  1,695  1,470  2,500\n",
      "7  1.6 CVVT RED PREMIUM  4,240  1,695  1,470  2,500\n"
     ]
    },
    {
     "name": "stderr",
     "output_type": "stream",
     "text": [
      "WebPage is:   1%|▋                                                            | 850/70000 [1:11:11<64:09:07,  3.34s/it]"
     ]
    },
    {
     "name": "stdout",
     "output_type": "stream",
     "text": [
      "         차종 전장(mm)  전폭(㎜)  전고(㎜)  축거(㎜)\n",
      "1  2.8 AUTO  5,195  1,845  1,445  2,940\n",
      "2  3.6 AUTO  5,195  1,845  1,445  2,940\n"
     ]
    },
    {
     "name": "stderr",
     "output_type": "stream",
     "text": [
      "WebPage is:   1%|▋                                                            | 854/70000 [1:11:28<68:01:42,  3.54s/it]"
     ]
    },
    {
     "name": "stdout",
     "output_type": "stream",
     "text": [
      "                  차종 전장(mm)  전폭(㎜)  전고(㎜)  축거(㎜)\n",
      "1      RX5 TI CT STD  4,795  1,870  1,760  2,820\n",
      "2      RX5 TI CT DLX  4,795  1,870  1,760  2,820\n",
      "3         RX5 TI STD  4,795  1,870  1,760  2,820\n",
      "4      RX5 TI CT STD  4,795  1,870  1,760  2,820\n",
      "5         RX5 TI DLX  4,795  1,870  1,760  2,820\n",
      "6      RX5 TI CT DLX  4,795  1,870  1,760  2,820\n",
      "7         RX5 TI STD  4,795  1,870  1,760  2,820\n",
      "8        RX5 EDi STD  4,795  1,870  1,760  2,820\n",
      "9         RX5 TI DLX  4,795  1,870  1,760  2,820\n",
      "10       RX5 EDI DLX  4,795  1,870  1,760  2,820\n",
      "11  RX5 EDi STD AUTO  4,795  1,870  1,760  2,820\n",
      "12       RX5 EDI SUP  4,795  1,870  1,760  2,820\n",
      "13       RX5 EDI DLX  4,795  1,870  1,760  2,820\n",
      "14  RX5 EDI SUP AUTO  4,795  1,870  1,760  2,820\n",
      "15  RX5 EDI NOBLESSE  4,795  1,870  1,760  2,820\n",
      "16   RX6 IL NOBLESSE  4,795  1,870  1,760  2,820\n"
     ]
    },
    {
     "name": "stderr",
     "output_type": "stream",
     "text": [
      "WebPage is:   1%|▋                                                            | 857/70000 [1:11:39<63:05:02,  3.28s/it]"
     ]
    },
    {
     "name": "stdout",
     "output_type": "stream",
     "text": [
      "                     차종 전장(mm)  전폭(㎜)  전고(㎜)  축거(㎜)\n",
      "1    2.0 LPG EX ECONOMY  4,490  1,750  1,610  2,570\n",
      "2        2.0 LPG EX STD  4,490  1,750  1,610  2,570\n",
      "3        2.0 LPG EX DLX  4,490  1,750  1,610  2,570\n",
      "4       2.0 LPG TLX STD  4,490  1,750  1,610  2,570\n",
      "5       2.0 LPG TLX DLX  4,490  1,750  1,610  2,570\n",
      "6  2.0 GASOLINE TLX DLX  4,490  1,750  1,610  2,570\n"
     ]
    },
    {
     "name": "stderr",
     "output_type": "stream",
     "text": [
      "WebPage is:   1%|▊                                                            | 863/70000 [1:12:06<69:51:15,  3.64s/it]"
     ]
    },
    {
     "name": "stdout",
     "output_type": "stream",
     "text": [
      "            차종 전장(mm)  전폭(㎜)  전고(㎜)  축거(㎜)\n",
      "1            L  3,495  1,595  1,480  2,370\n",
      "2       LX DLX  3,495  1,595  1,480  2,370\n",
      "3       LX SUP  3,495  1,595  1,480  2,370\n",
      "4      SLX SUP  3,495  1,595  1,480  2,370\n",
      "5   LX SPECIAL  3,495  1,595  1,480  2,370\n",
      "6  SLX SPECIAL  3,495  1,595  1,480  2,370\n"
     ]
    },
    {
     "name": "stderr",
     "output_type": "stream",
     "text": [
      "WebPage is:   1%|▊                                                            | 867/70000 [1:12:22<68:18:22,  3.56s/it]"
     ]
    },
    {
     "name": "stdout",
     "output_type": "stream",
     "text": [
      "                                 차종 전장(mm)  전폭(㎜)  전고(㎜)  축거(㎜)\n",
      "1                  2.0 D 2WD LX DLX  4,350  1,820  1,695  2,630\n",
      "2                  2.0 D 2WD LX SUP  4,350  1,840  1,730  2,630\n",
      "3              2.0 D 2WD LX SPECIAL  4,350  1,840  1,730  2,630\n",
      "4                 2.0 D 2WD TLX DLX  4,350  1,840  1,730  2,630\n",
      "5                 2.0 D 2WD TLX SUP  4,350  1,840  1,730  2,630\n",
      "6             2.0 D 2WD TLX SPECIAL  4,350  1,840  1,730  2,630\n",
      "7       2.0 D 2WD TLX BROWN PREMIUM  4,350  1,840  1,730  2,630\n",
      "8        2.0 D 2WD TLX BLUE PREMIUM  4,350  1,840  1,730  2,630\n",
      "9             2.0 D 2WD LIMITED DLX  4,350  1,840  1,730  2,630\n",
      "10            2.0 D 2WD LIMITED SUP  4,350  1,840  1,730  2,630\n",
      "11  2.0 D 2WD LIMITED BROWN PREMIUM  4,350  1,840  1,730  2,630\n",
      "12   2.0 D 2WD LIMITED BLUE PREMIUM  4,350  1,840  1,730  2,630\n"
     ]
    },
    {
     "name": "stderr",
     "output_type": "stream",
     "text": [
      "WebPage is:   1%|▊                                                            | 870/70000 [1:12:33<63:08:04,  3.29s/it]"
     ]
    },
    {
     "name": "stdout",
     "output_type": "stream",
     "text": [
      "                                차종 전장(mm)  전폭(㎜)  전고(㎜)  축거(㎜)\n",
      "1      2.0 D 4WD TLX BROWN PREMIUM  4,350  1,840  1,730  2,630\n",
      "2       2.0 D 4WD TLX BLUE PREMIUM  4,350  1,840  1,730  2,630\n",
      "3            2.0 D 4WD LIMITED DLX  4,350  1,840  1,730  2,630\n",
      "4            2.0 D 4WD LIMITED SUP  4,350  1,840  1,730  2,630\n",
      "5  2.0 D 4WD LIMITED BROWN PREMIUM  4,350  1,840  1,730  2,630\n",
      "6   2.0 D 4WD LIMITED BLUE PREMIUM  4,350  1,840  1,730  2,630\n"
     ]
    },
    {
     "name": "stderr",
     "output_type": "stream",
     "text": [
      "WebPage is:   1%|▊                                                            | 873/70000 [1:12:45<61:36:31,  3.21s/it]"
     ]
    },
    {
     "name": "stdout",
     "output_type": "stream",
     "text": [
      "           차종 전장(mm)  전폭(㎜)  전고(㎜)  축거(㎜)\n",
      "1  1.6 LS STD  4,050  1,740  1,635  2,600\n",
      "2  1.6 LS DLX  4,050  1,740  1,635  2,600\n",
      "3  1.6 TR STD  4,050  1,740  1,635  2,600\n",
      "4  1.6 TR DLX  4,050  1,740  1,635  2,600\n",
      "5  1.6 CR STD  4,050  1,740  1,635  2,600\n",
      "6  1.6 CR DLX  4,050  1,740  1,635  2,600\n",
      "7  1.6 CR SUP  4,050  1,740  1,635  2,600\n"
     ]
    },
    {
     "name": "stderr",
     "output_type": "stream",
     "text": [
      "WebPage is:   1%|▊                                                            | 876/70000 [1:12:56<63:05:54,  3.29s/it]"
     ]
    },
    {
     "name": "stdout",
     "output_type": "stream",
     "text": [
      "                               차종 전장(mm)  전폭(㎜)  전고(㎜)  축거(㎜)\n",
      "1                   Q270 STANDARD  4,895  1,865  1,490  2,780\n",
      "2                     Q270 DELUXE  4,895  1,865  1,490  2,780\n",
      "3                     Q270 LUXURY  4,895  1,865  1,490  2,780\n",
      "4               Q270 DELUXE MOZEN  4,895  1,865  1,490  2,780\n",
      "5          Q270 LUXURY SMART PACK  4,895  1,865  1,490  2,780\n",
      "6                    Q270 PREMIER  4,895  1,865  1,490  2,780\n",
      "7               Q270 LUXURY MOZEN  4,895  1,865  1,490  2,780\n",
      "8         Q270 PREMIER SMART PACK  4,895  1,865  1,490  2,780\n",
      "9    Q270 LUXURY SMART PACK MOZEN  4,895  1,865  1,490  2,780\n",
      "10                       L330 TOP  4,895  1,850  1,495  2,780\n",
      "11           L330 TOP MEMORY PACK  4,895  1,850  1,495  2,780\n",
      "12                 L330 TOP MOZEN  4,895  1,850  1,495  2,780\n",
      "13             Q270 PREMIER MOZEN  4,895  1,865  1,490  2,780\n",
      "14  Q270 PREMIER MOZEN SMART PACK  4,895  1,865  1,490  2,780\n",
      "15     L330 TOP MOZEN MEMORY PACK  4,895  1,850  1,495  2,780\n"
     ]
    },
    {
     "name": "stderr",
     "output_type": "stream",
     "text": [
      "WebPage is:   1%|▊                                                            | 883/70000 [1:13:28<71:20:52,  3.72s/it]"
     ]
    },
    {
     "name": "stdout",
     "output_type": "stream",
     "text": [
      "              차종 전장(mm)  전폭(㎜)  전고(㎜)  축거(㎜)\n",
      "1     1.5 VGT LX  3,990  1,695  1,470  2,500\n",
      "2    1.5 VGT SLX  3,990  1,695  1,470  2,500\n",
      "3     1.4 DOHC L  3,990  1,695  1,470  2,500\n",
      "4    1.4 DOHC LX  3,990  1,695  1,470  2,500\n",
      "5   1.6 CVVT SLX  3,990  1,695  1,470  2,500\n",
      "6  1.6 CVVT GOLD  3,990  1,695  1,470  2,500\n"
     ]
    },
    {
     "name": "stderr",
     "output_type": "stream",
     "text": [
      "WebPage is:   1%|▊                                                            | 886/70000 [1:13:40<65:33:22,  3.41s/it]"
     ]
    },
    {
     "name": "stdout",
     "output_type": "stream",
     "text": [
      "                        차종 전장(mm)  전폭(㎜)  전고(㎜)  축거(㎜)\n",
      "1          2.7 4WD LV7 SUP  4,660  1,880  1,760  2,740\n",
      "2   2.7 4WD LV7 BASIC AUTO  4,660  1,880  1,760  2,740\n",
      "3          2.7 4WD LV7 DLX  4,660  1,880  1,760  2,740\n",
      "4          2.7 4WD LV7 STD  4,660  1,880  1,760  2,740\n",
      "5        2.7 4WD LV7 BASIC  4,660  1,880  1,760  2,740\n",
      "6     2.7 4WD LV7 STD AUTO  4,660  1,880  1,760  2,740\n",
      "7     2.7 4WD LV7 DLX AUTO  4,660  1,880  1,760  2,740\n",
      "8     2.7 4WD LV7 SUP AUTO  4,660  1,880  1,760  2,740\n",
      "9   2.7 4WD HYPER DLX AUTO  4,660  1,880  1,760  2,740\n",
      "10  2.7 4WD HYPER SUP AUTO  4,660  1,880  1,760  2,740\n"
     ]
    },
    {
     "name": "stderr",
     "output_type": "stream",
     "text": [
      "WebPage is:   1%|▊                                                            | 892/70000 [1:14:07<71:54:07,  3.75s/it]"
     ]
    },
    {
     "name": "stdout",
     "output_type": "stream",
     "text": [
      "               차종 전장(mm)  전폭(㎜)  전고(㎜)  축거(㎜)\n",
      "1    0.8 City STD  3,495  1,495  1,500  2,345\n",
      "2    0.8 City DLX  3,495  1,495  1,500  2,345\n",
      "3     0.8 Joy STD  3,495  1,495  1,500  2,345\n",
      "4     0.8 Joy DLX  3,495  1,495  1,500  2,345\n",
      "5   0.8 Super STD  3,495  1,495  1,500  2,345\n",
      "6    0.8 City STD  3,495  1,495  1,500  2,345\n",
      "7   0.8 Super DLX  3,495  1,495  1,500  2,345\n",
      "8    0.8 City DLX  3,495  1,495  1,500  2,345\n",
      "9     0.8 Joy STD  3,495  1,495  1,500  2,345\n",
      "10    0.8 Joy DLX  3,495  1,495  1,500  2,345\n",
      "11  0.8 Super STD  3,495  1,495  1,500  2,345\n",
      "12  0.8 Super DLX  3,495  1,495  1,500  2,345\n"
     ]
    },
    {
     "name": "stderr",
     "output_type": "stream",
     "text": [
      "WebPage is:   1%|▊                                                            | 912/70000 [1:15:47<73:19:08,  3.82s/it]"
     ]
    },
    {
     "name": "stdout",
     "output_type": "stream",
     "text": [
      "              차종 전장(mm)  전폭(㎜)  전고(㎜)  축거(㎜)\n",
      "1    COACH 5 DLX  3,230  1,400  1,920  1,840\n",
      "2    COACH 7 DLX  3,230  1,400  1,920  1,840\n",
      "3  COACH 5 SUPER  3,230  1,400  1,920  1,840\n",
      "4  COACH 7 SUPER  3,230  1,400  1,920  1,840\n"
     ]
    },
    {
     "name": "stderr",
     "output_type": "stream",
     "text": [
      "WebPage is:   1%|▊                                                            | 921/70000 [1:16:30<76:30:22,  3.99s/it]"
     ]
    },
    {
     "name": "stdout",
     "output_type": "stream",
     "text": [
      "                   차종 전장(mm)  전폭(㎜)  전고(㎜)  축거(㎜)\n",
      "1       1.6VVT GL 기본형  4,525  1,725  1,425  2,610\n",
      "2       1.6VVT GL 기본형  4,525  1,725  1,425  2,610\n",
      "3       1.6VVT GL 고급형  4,525  1,725  1,425  2,610\n",
      "4       1.6VVT GL 고급형  4,525  1,725  1,425  2,610\n",
      "5      1.6VVT GLS 기본형  4,525  1,725  1,425  2,610\n",
      "6      1.6VVT GLS 기본형  4,525  1,725  1,425  2,610\n",
      "7   1.6VVT DELUXE 기본형  4,525  1,725  1,425  2,610\n",
      "8   1.6VVT DELUXE 기본형  4,525  1,725  1,425  2,610\n",
      "9        1.6VVT NYMPH  4,525  1,725  1,425  2,610\n",
      "10       1.6VVT NYMPH  4,525  1,725  1,425  2,610\n",
      "11    1.6VVT GOLD 기본형  4,525  1,725  1,425  2,610\n",
      "12    1.6VVT GOLD 기본형  4,525  1,725  1,425  2,610\n",
      "13    1.6VVT GOLD 고급형  4,525  1,725  1,425  2,610\n",
      "14    1.6VVT GOLD 고급형  4,525  1,725  1,425  2,610\n",
      "15   1.6VVT GOLD 최고급형  4,525  1,725  1,425  2,610\n",
      "16   1.6VVT GOLD 최고급형  4,525  1,725  1,425  2,610\n",
      "17    2.0VVT GOLD 고급형  4,525  1,725  1,425  2,610\n",
      "18    2.0VVT GOLD 고급형  4,525  1,725  1,425  2,610\n",
      "19   2.0VVT GOLD 최고급형  4,525  1,725  1,425  2,610\n"
     ]
    },
    {
     "name": "stderr",
     "output_type": "stream",
     "text": [
      "WebPage is:   1%|▊                                                            | 925/70000 [1:16:46<68:57:36,  3.59s/it]"
     ]
    },
    {
     "name": "stdout",
     "output_type": "stream",
     "text": [
      "                    차종 전장(mm)  전폭(㎜)  전고(㎜)  축거(㎜)\n",
      "1   1.6 VVT SPOTRT 고급형  4,520  1,720  1,425  2,610\n",
      "2   1.6 VVT SPOTRT 고급형  4,520  1,720  1,425  2,610\n",
      "3  1.6 VVT SPOTRT 최고급형  4,520  1,720  1,425  2,610\n",
      "4  1.6 VVT SPOTRT 최고급형  4,520  1,720  1,425  2,610\n",
      "5   2.0 VVT RACING 고급형  4,520  1,720  1,425  2,610\n",
      "6   2.0 VVT RACING 고급형  4,520  1,720  1,425  2,610\n",
      "7  2.0 VVT RACING 최고급형  4,520  1,720  1,425  2,610\n",
      "8  2.0 VVT RACING 최고급형  4,520  1,720  1,425  2,610\n"
     ]
    },
    {
     "name": "stderr",
     "output_type": "stream",
     "text": [
      "WebPage is:   1%|▊                                                            | 931/70000 [1:17:14<74:28:09,  3.88s/it]"
     ]
    },
    {
     "name": "stdout",
     "output_type": "stream",
     "text": [
      "                      차종 전장(mm)  전폭(㎜)  전고(㎜)  축거(㎜)\n",
      "1         1.6 CVVT L STD  4,480  1,735  1,470  2,610\n",
      "2         1.6 CVVT L DLX  4,480  1,735  1,470  2,610\n",
      "3            1.6 CVVT LX  4,480  1,735  1,470  2,610\n",
      "4           1.5 CVVT SLX  4,480  1,735  1,470  2,610\n",
      "5           1.6 CVVT SLX  4,480  1,735  1,470  2,610\n",
      "6          1.5 CVVT GOLD  4,480  1,735  1,470  2,610\n",
      "7      1.6 CVVT GOLD SUP  4,480  1,735  1,470  2,610\n",
      "8   1.6 CVVT GOLD SPORTS  4,480  1,735  1,470  2,610\n",
      "9   1.6 CVVT GOLD SAFETY  4,480  1,735  1,470  2,610\n",
      "10     1.6 CVVT GOLD PRM  4,480  1,735  1,470  2,610\n",
      "11         2.0 CVVT GOLD  4,480  1,735  1,470  2,610\n",
      "12        1.6 CVVT L STD  4,480  1,735  1,470  2,610\n",
      "13        1.6 CVVT L DLX  4,480  1,735  1,470  2,610\n",
      "14           1.6 CVVT LX  4,480  1,735  1,470  2,610\n",
      "15          1.6 CVVT SLX  4,480  1,735  1,470  2,610\n",
      "16     1.6 CVVT GOLD SUP  4,480  1,735  1,470  2,610\n",
      "17  1.6 CVVT GOLD SPORTS  4,480  1,735  1,470  2,610\n",
      "18  1.6 CVVT GOLD SAFETY  4,480  1,735  1,470  2,610\n",
      "19     1.6 CVVT GOLD PRM  4,480  1,735  1,470  2,610\n",
      "20         2.0 CVVT GOLD  4,480  1,735  1,470  2,610\n"
     ]
    },
    {
     "name": "stderr",
     "output_type": "stream",
     "text": [
      "WebPage is:   1%|▊                                                            | 934/70000 [1:17:25<64:14:39,  3.35s/it]"
     ]
    },
    {
     "name": "stdout",
     "output_type": "stream",
     "text": [
      "            차종 전장(mm)  전폭(㎜)  전고(㎜)  축거(㎜)\n",
      "1   1.5 VGT LX  4,480  1,735  1,470  2,610\n",
      "2  1.5 VGT SLX  4,480  1,735  1,470  2,610\n"
     ]
    },
    {
     "name": "stderr",
     "output_type": "stream",
     "text": [
      "WebPage is:   1%|▊                                                            | 938/70000 [1:17:41<64:48:59,  3.38s/it]"
     ]
    },
    {
     "name": "stdout",
     "output_type": "stream",
     "text": [
      "                     차종 전장(mm)  전폭(㎜)  전고(㎜)  축거(㎜)\n",
      "1          1.6 CVVT SLX  4,340  1,735  1,470  2,610\n",
      "2  1.6 CVVT GOLD SPORTS  4,340  1,735  1,470  2,610\n",
      "3  1.6 CVVT GOLD SAFETY  4,340  1,735  1,470  2,610\n",
      "4         2.0 CVVT GOLD  4,340  1,735  1,470  2,610\n"
     ]
    },
    {
     "name": "stderr",
     "output_type": "stream",
     "text": [
      "WebPage is:   1%|▊                                                            | 957/70000 [1:19:16<75:42:42,  3.95s/it]"
     ]
    },
    {
     "name": "stdout",
     "output_type": "stream",
     "text": [
      "                     차종 전장(mm)  전폭(㎜)  전고(㎜)  축거(㎜)\n",
      "1            1.6 EX STD  4,515  1,725  1,445  2,600\n",
      "2            1.6 EX DLX  4,515  1,725  1,445  2,600\n",
      "3       1.6 EX STD AUTO  4,515  1,725  1,445  2,600\n",
      "4       1.6 EX DLX AUTO  4,515  1,725  1,445  2,600\n",
      "5               1.6 LUX  4,515  1,725  1,445  2,600\n",
      "6               1.6 MAX  4,515  1,725  1,445  2,600\n",
      "7          1.6 LUX AUTO  4,515  1,725  1,445  2,600\n",
      "8   1.6 Platinum Manual  4,515  1,725  1,445  2,600\n",
      "9           1.6 DIAMOND  4,515  1,725  1,445  2,600\n",
      "10         1.6 MAX AUTO  4,515  1,725  1,445  2,600\n",
      "11    1.6 Platinum Auto  4,515  1,725  1,445  2,600\n",
      "12     1.6 DIAMOND AUTO  4,515  1,725  1,445  2,600\n"
     ]
    },
    {
     "name": "stderr",
     "output_type": "stream",
     "text": [
      "WebPage is:   1%|▊                                                            | 960/70000 [1:19:27<65:29:43,  3.42s/it]"
     ]
    },
    {
     "name": "stdout",
     "output_type": "stream",
     "text": [
      "                 차종 전장(mm)  전폭(㎜)  전고(㎜)  축거(㎜)\n",
      "1           1.6 MAX  4,295  1,725  1,445  2,600\n",
      "2      1.6 LUX AUTO  4,295  1,725  1,445  2,600\n",
      "3       1.6 DIAMOND  4,295  1,725  1,445  2,600\n",
      "4      1.6 MAX AUTO  4,295  1,725  1,445  2,600\n",
      "5  1.6 DIAMOND AUTO  4,295  1,725  1,445  2,600\n"
     ]
    },
    {
     "name": "stderr",
     "output_type": "stream",
     "text": [
      "WebPage is:   1%|▊                                                            | 967/70000 [1:19:59<71:01:20,  3.70s/it]"
     ]
    },
    {
     "name": "stdout",
     "output_type": "stream",
     "text": [
      "            차종 전장(mm)  전폭(㎜)  전고(㎜)  축거(㎜)\n",
      "1       1.5 DK  4,250  1,670  1,495  2,480\n",
      "2       1.5 LK  4,250  1,670  1,495  2,480\n",
      "3       1.5 DK  4,250  1,670  1,495  2,480\n",
      "4  1.5 DIAMOND  4,250  1,670  1,495  2,480\n",
      "5       1.5 LK  4,250  1,670  1,495  2,480\n",
      "6  1.5 DIAMOND  4,250  1,670  1,495  2,480\n"
     ]
    },
    {
     "name": "stderr",
     "output_type": "stream",
     "text": [
      "WebPage is:   1%|▊                                                            | 976/70000 [1:20:42<73:10:53,  3.82s/it]"
     ]
    },
    {
     "name": "stdout",
     "output_type": "stream",
     "text": [
      "                 차종 전장(mm)  전폭(㎜)  전고(㎜)  축거(㎜)\n",
      "1   2.0 CRDI GL STD  4,695  1,840  1,710  2,830\n",
      "2   2.0 CRDI GL DLX  4,695  1,840  1,710  2,830\n",
      "3   2.0 VGT GLS STD  4,695  1,840  1,710  2,830\n",
      "4   2.0 VGT GLS DLX  4,695  1,840  1,710  2,830\n",
      "5   2.0 VGT GLS SUP  4,695  1,840  1,710  2,830\n",
      "6  2.0 VGT GOLD STD  4,695  1,840  1,710  2,830\n",
      "7  2.0 VGT GOLD DLX  4,695  1,840  1,710  2,830\n",
      "8  2.0 VGT GOLD SUP  4,695  1,840  1,710  2,830\n"
     ]
    },
    {
     "name": "stderr",
     "output_type": "stream",
     "text": [
      "WebPage is:   1%|▊                                                            | 980/70000 [1:20:58<66:55:35,  3.49s/it]"
     ]
    },
    {
     "name": "stdout",
     "output_type": "stream",
     "text": [
      "                 차종 전장(mm)  전폭(㎜)  전고(㎜)  축거(㎜)\n",
      "1  2.0 DOHC GLS DLX  4,695  1,840  1,710  2,830\n",
      "2   2.0 DOHC GL STD  4,695  1,840  1,710  2,830\n",
      "3   2.0 DOHC GL DLX  4,695  1,840  1,710  2,830\n",
      "4  2.0 DOHC GLS STD  4,695  1,840  1,710  2,830\n"
     ]
    },
    {
     "name": "stderr",
     "output_type": "stream",
     "text": [
      "WebPage is:   1%|▊                                                            | 983/70000 [1:21:09<63:49:30,  3.33s/it]"
     ]
    },
    {
     "name": "stdout",
     "output_type": "stream",
     "text": [
      "                  차종 전장(mm)  전폭(㎜)  전고(㎜)  축거(㎜)\n",
      "1             1.5 PE  4,510  1,710  1,440  2,535\n",
      "2        1.5 PE AUTO  4,510  1,710  1,440  2,535\n",
      "3             1.6 SE  4,510  1,710  1,440  2,535\n",
      "4        1.6 SE PLUS  4,510  1,710  1,440  2,535\n",
      "5             1.6 XE  4,510  1,710  1,440  2,535\n",
      "6        1.6 SE AUTO  4,510  1,710  1,440  2,535\n",
      "7             1.6 LE  4,510  1,710  1,440  2,535\n",
      "8   1.6 SE PLUS AUTO  4,510  1,710  1,440  2,535\n",
      "9        1.6 XE AUTO  4,510  1,710  1,440  2,535\n",
      "10       1.6 LE AUTO  4,510  1,710  1,440  2,535\n",
      "11  1.6 LE PLUS AUTO  4,510  1,710  1,440  2,535\n"
     ]
    },
    {
     "name": "stderr",
     "output_type": "stream",
     "text": [
      "WebPage is:   1%|▊                                                           | 1012/70000 [1:23:37<74:08:14,  3.87s/it]"
     ]
    },
    {
     "name": "stdout",
     "output_type": "stream",
     "text": [
      "                 차종 전장(mm)  전폭(㎜)  전고(㎜)  축거(㎜)\n",
      "1            1.5 SX  4,310  1,710  1,505  2,480\n",
      "2           1.5 CDX  4,310  1,710  1,505  2,480\n",
      "3       1.5 SX AUTO  4,310  1,710  1,505  2,480\n",
      "4      1.5 CDX AUTO  4,310  1,710  1,505  2,480\n",
      "5       1.5 DIAMOND  4,310  1,710  1,505  2,480\n",
      "6  1.5 DIAMOND AUTO  4,310  1,710  1,505  2,480\n"
     ]
    },
    {
     "name": "stderr",
     "output_type": "stream",
     "text": [
      "WebPage is:   1%|▊                                                           | 1015/70000 [1:23:48<64:53:22,  3.39s/it]"
     ]
    },
    {
     "name": "stdout",
     "output_type": "stream",
     "text": [
      "                차종 전장(mm)  전폭(㎜)  전고(㎜)  축거(㎜)\n",
      "1   1.4 DOHC L STD  4,280  1,695  1,470  2,500\n",
      "2  1.4 DOHC GL STD  4,280  1,695  1,470  2,500\n",
      "3  1.4 DOHC GL DLX  4,280  1,695  1,470  2,500\n",
      "4  1.6 VVT GLS STD  4,280  1,695  1,470  2,500\n",
      "5  1.6 VVT GLS DLX  4,280  1,695  1,470  2,500\n",
      "6  1.6 VVT GLS SUP  4,280  1,695  1,470  2,500\n"
     ]
    },
    {
     "name": "stderr",
     "output_type": "stream",
     "text": [
      "WebPage is:   1%|▉                                                           | 1025/70000 [1:24:36<73:50:09,  3.85s/it]"
     ]
    },
    {
     "name": "stdout",
     "output_type": "stream",
     "text": [
      "                     차종 전장(mm)  전폭(㎜)  전고(㎜)  축거(㎜)\n",
      "1       2.0 CX5 DLX 2WD  4,455  1,880  1,740  2,740\n",
      "2       2.0 CX5 SUP 2WD  4,455  1,880  1,740  2,740\n",
      "3  2.0 CX5 DLX 2WD AUTO  4,455  1,880  1,740  2,740\n",
      "4  2.0 CX5 SUP 2WD AUTO  4,455  1,880  1,740  2,740\n",
      "5       2.0 CX7 DLX 2WD  4,455  1,880  1,740  2,740\n",
      "6       2.0 CX7 SUP 2WD  4,455  1,880  1,740  2,740\n",
      "7  2.0 CX7 DLX 2WD AUTO  4,455  1,880  1,740  2,740\n",
      "8  2.0 CX7 SUP 2WD AUTO  4,455  1,880  1,740  2,740\n"
     ]
    },
    {
     "name": "stderr",
     "output_type": "stream",
     "text": [
      "WebPage is:   1%|▉                                                           | 1038/70000 [1:25:39<72:29:21,  3.78s/it]"
     ]
    },
    {
     "name": "stdout",
     "output_type": "stream",
     "text": [
      "                                 차종 전장(mm)  전폭(㎜)  전고(㎜)  축거(㎜)\n",
      "1  2.4 LEX24 BLACK PREMIUM SUP AUTO  4,755  1,820  1,480  2,720\n",
      "2                        1.8 LX STD  4,755  1,820  1,480  2,720\n"
     ]
    },
    {
     "name": "stderr",
     "output_type": "stream",
     "text": [
      "WebPage is:   2%|▉                                                           | 1076/70000 [1:28:53<75:22:28,  3.94s/it]"
     ]
    },
    {
     "name": "stdout",
     "output_type": "stream",
     "text": [
      "                      차종 전장(mm)  전폭(㎜)  전고(㎜)  축거(㎜)\n",
      "1        2.0 2WD EV5 DLX  4,660  1,880  1,760  2,740\n",
      "2        2.0 2WD EV5 SUP  4,660  1,880  1,760  2,740\n",
      "3        2.0 4WD EV5 DLX  4,660  1,880  1,760  2,740\n",
      "4        2.0 2WD LV5 DLX  4,660  1,880  1,760  2,740\n",
      "5        2.0 4WD EV5 SUP  4,660  1,880  1,760  2,740\n",
      "6   2.0 2WD EV5 DLX AUTO  4,660  1,880  1,760  2,740\n",
      "7        2.0 2WD LV5 SUP  4,660  1,880  1,760  2,740\n",
      "8   2.0 2WD EV5 SUP AUTO  4,660  1,880  1,760  2,740\n",
      "9        2.0 4WD LV5 DLX  4,660  1,880  1,760  2,740\n",
      "10  2.0 2WD LV5 DLX AUTO  4,660  1,880  1,760  2,740\n",
      "11  2.0 4WD EV5 DLX AUTO  4,660  1,880  1,760  2,740\n",
      "12       2.0 4WD LV5 SUP  4,660  1,880  1,760  2,740\n",
      "13  2.0 4WD EV5 SUP AUTO  4,660  1,880  1,760  2,740\n",
      "14  2.0 2WD LV5 SUP AUTO  4,660  1,880  1,760  2,740\n",
      "15  2.0 4WD LV5 DLX AUTO  4,660  1,880  1,760  2,740\n",
      "16  2.0 4WD LV5 SUP AUTO  4,660  1,880  1,760  2,740\n"
     ]
    },
    {
     "name": "stderr",
     "output_type": "stream",
     "text": [
      "WebPage is:   2%|▉                                                           | 1080/70000 [1:29:09<68:04:16,  3.56s/it]"
     ]
    },
    {
     "name": "stdout",
     "output_type": "stream",
     "text": [
      "                        차종 전장(mm)  전폭(㎜)  전고(㎜)  축거(㎜)\n",
      "1          2.7 2WD LV7 DLX  4,660  1,880  1,760  2,740\n",
      "2          2.7 2WD LV7 SUP  4,660  1,880  1,760  2,740\n",
      "3          2.7 4WD LV7 DLX  4,660  1,880  1,760  2,740\n",
      "4     2.7 2WD LV7 DLX AUTO  4,660  1,880  1,760  2,740\n",
      "5          2.7 4WD LV7 SUP  4,660  1,880  1,760  2,740\n",
      "6     2.7 2WD LV7 SUP AUTO  4,660  1,880  1,760  2,740\n",
      "7     2.7 4WD LV7 DLX AUTO  4,660  1,880  1,760  2,740\n",
      "8     2.7 4WD LV7 SUP AUTO  4,660  1,880  1,760  2,740\n",
      "9   2.7 4WD HYPER DLX AUTO  4,660  1,880  1,760  2,740\n",
      "10  2.7 4WD HYPER SUP AUTO  4,660  1,880  1,760  2,740\n"
     ]
    },
    {
     "name": "stderr",
     "output_type": "stream",
     "text": [
      "WebPage is:   2%|▉                                                           | 1083/70000 [1:29:20<63:23:18,  3.31s/it]"
     ]
    },
    {
     "name": "stdout",
     "output_type": "stream",
     "text": [
      "                        차종 전장(mm)  전폭(㎜)  전고(㎜)  축거(㎜)\n",
      "1          2.7 2WD LV7 DLX  4,660  1,880  1,760  2,740\n",
      "2          2.7 2WD LV7 SUP  4,660  1,880  1,760  2,740\n",
      "3          2.7 4WD LV7 DLX  4,660  1,880  1,760  2,740\n",
      "4     2.7 2WD LV7 DLX AUTO  4,660  1,880  1,760  2,740\n",
      "5          2.7 4WD LV7 SUP  4,660  1,880  1,760  2,740\n",
      "6     2.7 2WD LV7 SUP AUTO  4,660  1,880  1,760  2,740\n",
      "7     2.7 4WD LV7 DLX AUTO  4,660  1,880  1,760  2,740\n",
      "8     2.7 4WD LV7 SUP AUTO  4,660  1,880  1,760  2,740\n",
      "9   2.7 4WD HYPER DLX AUTO  4,660  1,880  1,760  2,740\n",
      "10  2.7 4WD HYPER SUP AUTO  4,660  1,880  1,760  2,740\n"
     ]
    },
    {
     "name": "stderr",
     "output_type": "stream",
     "text": [
      "WebPage is:   2%|▉                                                           | 1086/70000 [1:29:31<61:47:48,  3.23s/it]"
     ]
    },
    {
     "name": "stdout",
     "output_type": "stream",
     "text": [
      "                           차종 전장(mm)  전폭(㎜)  전고(㎜)  축거(㎜)\n",
      "1         2.2 VGT 2WD CLX STD  4,675  1,890  1,725  2,700\n",
      "2         2.2 VGT 2WD CLX DLX  4,675  1,890  1,725  2,700\n",
      "3         2.2 VGT 2WD CLX SUP  4,675  1,890  1,725  2,700\n",
      "4         2.2 VGT 2WD MLX STD  4,675  1,890  1,725  2,700\n",
      "5         2.2 VGT 2WD MLX DLX  4,675  1,890  1,725  2,700\n",
      "6         2.2 VGT 2WD MLX SUP  4,675  1,890  1,725  2,700\n",
      "7         2.2 VGT 2WD SLX DLX  4,675  1,890  1,725  2,700\n",
      "8   2.2 VGT 2WD MLX SUP MOZEN  4,675  1,890  1,725  2,700\n",
      "9         2.2 VGT 2WD SLX SUP  4,675  1,890  1,725  2,700\n",
      "10  2.2 VGT 2WD SLX DLX MOZEN  4,675  1,890  1,725  2,700\n",
      "11  2.2 VGT 2WD SLX SUP MOZEN  4,675  1,890  1,725  2,700\n"
     ]
    },
    {
     "name": "stderr",
     "output_type": "stream",
     "text": [
      "WebPage is:   2%|▉                                                           | 1089/70000 [1:29:42<60:42:49,  3.17s/it]"
     ]
    },
    {
     "name": "stdout",
     "output_type": "stream",
     "text": [
      "                    차종 전장(mm)  전폭(㎜)  전고(㎜)  축거(㎜)\n",
      "1  2.2 VGT 4WD CLX STD  4,675  1,890  1,725  2,700\n",
      "2  2.2 VGT 4WD CLX DLX  4,675  1,890  1,725  2,700\n",
      "3  2.2 VGT 4WD CLX SUP  4,675  1,890  1,725  2,700\n",
      "4  2.2 VGT 4WD MLX STD  4,675  1,890  1,725  2,700\n",
      "5  2.2 VGT 4WD MLX DLX  4,675  1,890  1,725  2,700\n",
      "6  2.2 VGT 4WD MLX SUP  4,675  1,890  1,725  2,700\n",
      "7  2.2 VGT 4WD SLX DLX  4,675  1,890  1,725  2,700\n",
      "8  2.2 VGT 4WD SLX SUP  4,675  1,890  1,725  2,700\n"
     ]
    },
    {
     "name": "stderr",
     "output_type": "stream",
     "text": [
      "WebPage is:   2%|▉                                                           | 1093/70000 [1:29:59<62:45:05,  3.28s/it]"
     ]
    },
    {
     "name": "stdout",
     "output_type": "stream",
     "text": [
      "                   차종 전장(mm)  전폭(㎜)  전고(㎜)  축거(㎜)\n",
      "1    CM500S REVERENCE  5,135  1,825  1,465  2,900\n",
      "2  CM500S REVERENCE S  5,135  1,825  1,465  2,900\n"
     ]
    },
    {
     "name": "stderr",
     "output_type": "stream",
     "text": [
      "WebPage is:   2%|▉                                                           | 1102/70000 [1:30:41<73:22:50,  3.83s/it]"
     ]
    },
    {
     "name": "stdout",
     "output_type": "stream",
     "text": [
      "                               차종 전장(mm)  전폭(㎜)  전고(㎜)  축거(㎜)\n",
      "1                   Q270 STANDARD  4,895  1,865  1,490  2,780\n",
      "2                     Q270 DELUXE  4,895  1,865  1,490  2,780\n",
      "3                     Q270 LUXURY  4,895  1,865  1,490  2,780\n",
      "4               Q270 DELUXE MOZEN  4,895  1,865  1,490  2,780\n",
      "5          Q270 LUXURY SMART PACK  4,895  1,865  1,490  2,780\n",
      "6                    Q270 PREMIER  4,895  1,865  1,490  2,780\n",
      "7               Q270 LUXURY MOZEN  4,895  1,865  1,490  2,780\n",
      "8         Q270 PREMIER SMART PACK  4,895  1,865  1,490  2,780\n",
      "9    Q270 LUXURY MOZEN SMART PACK  4,895  1,865  1,490  2,780\n",
      "10             Q270 PREMIER MOZEN  4,895  1,865  1,490  2,780\n",
      "11                       L330 TOP  4,895  1,850  1,495  2,780\n",
      "12  Q270 PREMIER MOZEN SMART PACK  4,895  1,865  1,490  2,780\n",
      "13           L330 TOP MEMORY PACK  4,895  1,850  1,495  2,780\n",
      "14                 L330 TOP MOZEN  4,895  1,850  1,495  2,780\n",
      "15     L330 TOP MOZEN MEMORY PACK  4,895  1,850  1,495  2,780\n"
     ]
    },
    {
     "name": "stderr",
     "output_type": "stream",
     "text": [
      "WebPage is:   2%|▉                                                           | 1106/70000 [1:30:58<68:13:34,  3.57s/it]"
     ]
    },
    {
     "name": "stdout",
     "output_type": "stream",
     "text": [
      "                           차종 전장(mm)  전폭(㎜)  전고(㎜)  축거(㎜)\n",
      "1         2.2 VGT 2WD CLX STD  4,675  1,890  1,725  2,700\n",
      "2         2.2 VGT 2WD CLX DLX  4,675  1,890  1,725  2,700\n",
      "3         2.2 VGT 2WD CLX SUP  4,675  1,890  1,725  2,700\n",
      "4         2.2 VGT 2WD MLX STD  4,675  1,890  1,725  2,700\n",
      "5         2.2 VGT 2WD MLX DLX  4,675  1,890  1,725  2,700\n",
      "6         2.2 VGT 2WD MLX SUP  4,675  1,890  1,725  2,700\n",
      "7         2.2 VGT 2WD SLX DLX  4,675  1,890  1,725  2,700\n",
      "8   2.2 VGT 2WD MLX SUP MOZEN  4,675  1,890  1,725  2,700\n",
      "9         2.2 VGT 2WD SLX SUP  4,675  1,890  1,725  2,700\n",
      "10  2.2 VGT 2WD SLX DLX MOZEN  4,675  1,890  1,725  2,700\n",
      "11  2.2 VGT 2WD SLX SUP MOZEN  4,675  1,890  1,725  2,700\n",
      "12     2.2 VGT 2WD STYLE PACK  4,675  1,890  1,725  2,700\n"
     ]
    },
    {
     "name": "stderr",
     "output_type": "stream",
     "text": [
      "WebPage is:   2%|▉                                                           | 1109/70000 [1:31:09<62:52:22,  3.29s/it]"
     ]
    },
    {
     "name": "stdout",
     "output_type": "stream",
     "text": [
      "                       차종 전장(mm)  전폭(㎜)  전고(㎜)  축거(㎜)\n",
      "1     2.2 VGT 4WD CLX STD  4,675  1,890  1,725  2,700\n",
      "2     2.2 VGT 4WD CLX DLX  4,675  1,890  1,725  2,700\n",
      "3     2.2 VGT 4WD CLX SUP  4,675  1,890  1,725  2,700\n",
      "4     2.2 VGT 4WD MLX STD  4,675  1,890  1,725  2,700\n",
      "5     2.2 VGT 4WD MLX DLX  4,675  1,890  1,725  2,700\n",
      "6     2.2 VGT 4WD MLX SUP  4,675  1,890  1,725  2,700\n",
      "7     2.2 VGT 4WD SLX DLX  4,675  1,890  1,725  2,700\n",
      "8     2.2 VGT 4WD SLX SUP  4,675  1,890  1,725  2,700\n",
      "9  2.2 VGT 4WD STYLE PACK  4,675  1,890  1,725  2,700\n"
     ]
    },
    {
     "name": "stderr",
     "output_type": "stream",
     "text": [
      "WebPage is:   2%|▉                                                           | 1112/70000 [1:31:20<60:38:48,  3.17s/it]"
     ]
    },
    {
     "name": "stdout",
     "output_type": "stream",
     "text": [
      "           차종 전장(mm)  전폭(㎜)  전고(㎜)  축거(㎜)\n",
      "1  1.6 LS STD  4,050  1,740  1,635  2,600\n",
      "2  1.6 LS DLX  4,050  1,740  1,635  2,600\n",
      "3  1.6 TR STD  4,050  1,740  1,635  2,600\n",
      "4  1.6 TR DLX  4,050  1,740  1,685  2,600\n",
      "5  1.6 CR STD  4,050  1,740  1,635  2,600\n",
      "6  1.6 CR DLX  4,050  1,740  1,685  2,600\n",
      "7  1.6 CR SUP  4,050  1,740  1,685  2,600\n"
     ]
    },
    {
     "name": "stderr",
     "output_type": "stream",
     "text": [
      "WebPage is:   2%|▉                                                           | 1115/70000 [1:31:31<59:55:22,  3.13s/it]"
     ]
    },
    {
     "name": "stdout",
     "output_type": "stream",
     "text": [
      "                     차종 전장(mm)  전폭(㎜)  전고(㎜)  축거(㎜)\n",
      "1        1.4 DOHC L STD  4,280  1,695  1,470  2,500\n",
      "2       1.4 DOHC GL STD  4,280  1,695  1,470  2,500\n",
      "3       1.4 DOHC GL DLX  4,280  1,695  1,470  2,500\n",
      "4       1.6 VVT GLS STD  4,280  1,695  1,470  2,500\n",
      "5       1.6 VVT GLS DLX  4,280  1,695  1,470  2,500\n",
      "6       1.6 VVT GLS SUP  4,280  1,695  1,470  2,500\n",
      "7  1.4 DOHC GL ELEGANCE  4,280  1,695  1,470  2,500\n"
     ]
    },
    {
     "name": "stderr",
     "output_type": "stream",
     "text": [
      "WebPage is:   2%|▉                                                           | 1122/70000 [1:32:03<70:22:28,  3.68s/it]"
     ]
    },
    {
     "name": "stdout",
     "output_type": "stream",
     "text": [
      "                                  차종 전장(mm)  전폭(㎜)  전고(㎜)  축거(㎜)\n",
      "1                     EX 290 2WD STD  4,710  1,860  1,795  2,750\n",
      "2                     JX 290 2WD STD  4,710  1,860  1,795  2,750\n",
      "3                     JX 290 2WD DLX  4,710  1,860  1,840  2,750\n",
      "4                     JX 290 4WD SUP  4,710  1,860  1,840  2,750\n",
      "5       JX 290 4WD SUP BLACK SPECIAL  4,710  1,860  1,840  2,750\n",
      "6                JX 290 GOLD 4WD DLX  4,710  1,860  1,840  2,750\n",
      "7  JX 290 GOLD 4WD DLX BLACK SPECIAL  4,710  1,860  1,840  2,750\n",
      "8                JX 290 GOLD 4WD SUP  4,710  1,860  1,840  2,750\n",
      "9  JX 290 GOLD 4WD SUP BLACK SPECIAL  4,710  1,860  1,840  2,750\n"
     ]
    },
    {
     "name": "stderr",
     "output_type": "stream",
     "text": [
      "WebPage is:   2%|▉                                                           | 1128/70000 [1:32:30<70:55:19,  3.71s/it]"
     ]
    },
    {
     "name": "stdout",
     "output_type": "stream",
     "text": [
      "                              차종 전장(mm)  전폭(㎜)  전고(㎜)  축거(㎜)\n",
      "1             2.0 VGT 2WD JX STD  4,325  1,800  1,680  2,630\n",
      "2             2.0 VGT 2WD JX DLX  4,325  1,800  1,680  2,630\n",
      "3   2.0 VGT BEST 2WD BUSINESS JX  4,325  1,800  1,680  2,630\n",
      "4             2.0 VGT 2WD MX DLX  4,325  1,800  1,680  2,630\n",
      "5             2.0 VGT 2WD MX SUP  4,325  1,800  1,680  2,630\n",
      "6       2.0 VGT BEST 2WD LADY MX  4,325  1,800  1,680  2,630\n",
      "7      2.0 VGT 2WD MX STYLE PACK  4,325  1,800  1,680  2,630\n",
      "8     2.0 VGT BEST 2WD LUXURY MX  4,325  1,800  1,680  2,630\n",
      "9            2.0 VGT 2WD MXL DLX  4,325  1,800  1,680  2,630\n",
      "10    2.0 VGT 2WD MXL STYLE PACK  4,325  1,800  1,680  2,630\n",
      "11   2.0 VGT BEST 2WD LUXURY MXL  4,325  1,800  1,680  2,630\n",
      "12           2.0 VGT 2WD MXL SUP  4,325  1,800  1,680  2,630\n"
     ]
    },
    {
     "name": "stderr",
     "output_type": "stream",
     "text": [
      "WebPage is:   2%|▉                                                           | 1138/70000 [1:33:17<71:52:19,  3.76s/it]"
     ]
    },
    {
     "name": "stdout",
     "output_type": "stream",
     "text": [
      "                 차종 전장(mm)  전폭(㎜)  전고(㎜)  축거(㎜)\n",
      "1   2.0 DOHC GL STD  4,695  1,840  1,710  2,830\n",
      "2   2.0 DOHC GL DLX  4,695  1,840  1,710  2,830\n",
      "3  2.0 DOHC GLS STD  4,695  1,840  1,710  2,830\n",
      "4  2.0 DOHC GLS DLX  4,695  1,840  1,710  2,830\n"
     ]
    },
    {
     "name": "stderr",
     "output_type": "stream",
     "text": [
      "WebPage is:   2%|▉                                                           | 1141/70000 [1:33:29<66:42:26,  3.49s/it]"
     ]
    },
    {
     "name": "stdout",
     "output_type": "stream",
     "text": [
      "                                   차종 전장(mm)  전폭(㎜)  전고(㎜)  축거(㎜)\n",
      "1                         2.0 N20 STD  4,800  1,830  1,475  2,730\n",
      "2                  2.0 N20 DELUXE STD  4,800  1,830  1,475  2,730\n",
      "3                    2.0 N20 STD AUTO  4,800  1,830  1,475  2,730\n",
      "4                  2.0 N20 LUXURY STD  4,800  1,830  1,475  2,730\n",
      "5             2.0 N20 DELUXE AUTO STD  4,800  1,830  1,475  2,730\n",
      "6             2.0 N20 LUXURY AUTO STD  4,800  1,830  1,475  2,730\n",
      "7             2.0 N20 DELUXE AUTO DLX  4,800  1,830  1,475  2,730\n",
      "8             2.0 N20 LUXURY AUTO DLX  4,800  1,830  1,475  2,730\n",
      "9   2.0 N20 ELEGANCE SPECIAL AUTO STD  4,800  1,830  1,475  2,730\n",
      "10  2.0 N20 ELEGANCE SPECIAL AUTO DLX  4,800  1,830  1,475  2,730\n",
      "11           2.0 N20 PREMIER AUTO STD  4,800  1,830  1,475  2,730\n",
      "12  2.0 N20 ELEGANCE SPECIAL AUTO SUP  4,800  1,830  1,475  2,730\n",
      "13           2.0 N20 PREMIER AUTO DLX  4,800  1,830  1,475  2,730\n",
      "14           2.0 N20 PREMIER AUTO SUP  4,800  1,830  1,475  2,730\n",
      "15  2.4 F24 ELEGANCE SPECIAL AUTO STD  4,800  1,830  1,475  2,730\n",
      "16           2.4 F24 PREMIER AUTO STD  4,800  1,830  1,475  2,730\n",
      "17  2.4 F24 ELEGANCE SPECIAL AUTO DLX  4,800  1,830  1,475  2,730\n",
      "18          2.4 F24S PREMIER AUTO STD  4,800  1,830  1,475  2,730\n",
      "19           2.4 F24 PREMIER AUTO DLX  4,800  1,830  1,475  2,730\n",
      "20          2.4 F24S PREMIER AUTO DLX  4,800  1,830  1,475  2,730\n",
      "21           3.3 V33 PREMIER AUTO STD  4,800  1,830  1,475  2,730\n"
     ]
    },
    {
     "name": "stderr",
     "output_type": "stream",
     "text": [
      "WebPage is:   2%|▉                                                           | 1144/70000 [1:33:40<61:47:21,  3.23s/it]"
     ]
    },
    {
     "name": "stdout",
     "output_type": "stream",
     "text": [
      "                     차종 전장(mm)  전폭(㎜)  전고(㎜)  축거(㎜)\n",
      "1            1.5 VGT LX  4,240  1,695  1,470  2,500\n",
      "2           1.5 VGT SLX  4,240  1,695  1,470  2,500\n",
      "3           1.4 DOHC LX  4,240  1,695  1,470  2,500\n",
      "4          1.6 CVVT SLX  4,240  1,695  1,470  2,500\n",
      "5         1.6 CVVT GOLD  4,240  1,695  1,470  2,500\n",
      "6  1.6 CVVT RED PREMIUM  4,240  1,695  1,470  2,500\n",
      "7            1.4 DOHC L  4,240  1,695  1,470  2,500\n"
     ]
    },
    {
     "name": "stderr",
     "output_type": "stream",
     "text": [
      "WebPage is:   2%|▉                                                           | 1148/70000 [1:33:56<63:54:30,  3.34s/it]"
     ]
    },
    {
     "name": "stdout",
     "output_type": "stream",
     "text": [
      "              차종 전장(mm)  전폭(㎜)  전고(㎜)  축거(㎜)\n",
      "1     1.5 VGT LX  3,990  1,695  1,470  2,500\n",
      "2    1.5 VGT SLX  3,990  1,695  1,470  2,500\n",
      "3     1.4 DOHC L  3,990  1,695  1,470  2,500\n",
      "4    1.4 DOHC LX  3,990  1,695  1,470  2,500\n",
      "5   1.6 CVVT SLX  3,990  1,695  1,470  2,500\n",
      "6  1.6 CVVT GOLD  3,990  1,695  1,470  2,500\n"
     ]
    },
    {
     "name": "stderr",
     "output_type": "stream",
     "text": [
      "WebPage is:   2%|▉                                                           | 1154/70000 [1:34:23<70:03:56,  3.66s/it]"
     ]
    },
    {
     "name": "stdout",
     "output_type": "stream",
     "text": [
      "                                   차종 전장(mm)  전폭(㎜)  전고(㎜)  축거(㎜)\n",
      "1                  2.0 VGT 2WD LX DLX  4,350  1,820  1,695  2,630\n",
      "2                  2.0 VGT 2WD LX SUP  4,350  1,840  1,730  2,630\n",
      "3              2.0 VGT 2WD LX SPECIAL  4,350  1,840  1,730  2,630\n",
      "4                 2.0 VGT 2WD TLX DLX  4,350  1,840  1,730  2,630\n",
      "5    2.0 VGT 2WD TLX DLX MONO SPECIAL  4,350  1,840  1,730  2,630\n",
      "6                 2.0 VGT 2WD TLX SUP  4,350  1,840  1,730  2,630\n",
      "7             2.0 VGT 2WD TLX SPECIAL  4,350  1,840  1,730  2,630\n",
      "8       2.0 VGT 2WD TLX BROWN PREMIUM  4,350  1,840  1,730  2,630\n",
      "9        2.0 VGT 2WD TLX BLUE PREMIUM  4,350  1,840  1,730  2,630\n",
      "10            2.0 VGT 2WD LIMITED DLX  4,350  1,840  1,730  2,630\n",
      "11            2.0 VGT 2WD LIMITED SUP  4,350  1,840  1,730  2,630\n",
      "12  2.0 VGT 2WD LIMITED BROWN PREMIUM  4,350  1,840  1,730  2,630\n",
      "13   2.0 VGT 2WD LIMITED BLUE PREMIUM  4,350  1,840  1,730  2,630\n"
     ]
    },
    {
     "name": "stderr",
     "output_type": "stream",
     "text": [
      "WebPage is:   2%|▉                                                           | 1157/70000 [1:34:34<62:06:16,  3.25s/it]"
     ]
    },
    {
     "name": "stdout",
     "output_type": "stream",
     "text": [
      "                        차종 전장(mm)  전폭(㎜)  전고(㎜)  축거(㎜)\n",
      "1       2.0 VGT 4WD LX DLX  4,350  1,820  1,695  2,630\n",
      "2      2.0 VGT 4WD TLX DLX  4,350  1,840  1,730  2,630\n",
      "3  2.0 VGT 4WD TLX SPECIAL  4,350  1,840  1,730  2,630\n"
     ]
    },
    {
     "name": "stderr",
     "output_type": "stream",
     "text": [
      "WebPage is:   2%|▉                                                           | 1160/70000 [1:34:44<59:20:48,  3.10s/it]"
     ]
    },
    {
     "name": "stdout",
     "output_type": "stream",
     "text": [
      "                                 차종 전장(mm)  전폭(㎜)  전고(㎜)  축거(㎜)\n",
      "1  2.4 LEX24 BLACK PREMIUM SUP AUTO  4,755  1,820  1,480  2,720\n",
      "2                        1.8 LX STD  4,755  1,820  1,480  2,720\n"
     ]
    },
    {
     "name": "stderr",
     "output_type": "stream",
     "text": [
      "WebPage is:   2%|▉                                                           | 1164/70000 [1:35:01<63:24:36,  3.32s/it]"
     ]
    },
    {
     "name": "stdout",
     "output_type": "stream",
     "text": [
      "            차종 전장(mm)  전폭(㎜)  전고(㎜)  축거(㎜)\n",
      "1       LX DLX  3,495  1,595  1,480  2,370\n",
      "2       LX SUP  3,495  1,595  1,480  2,370\n",
      "3      SLX SUP  3,495  1,595  1,480  2,370\n",
      "4   LX SPECIAL  3,495  1,595  1,480  2,370\n",
      "5  SLX SPECIAL  3,495  1,595  1,480  2,370\n",
      "6            L  3,495  1,595  1,480  2,370\n"
     ]
    },
    {
     "name": "stderr",
     "output_type": "stream",
     "text": [
      "WebPage is:   2%|█                                                           | 1167/70000 [1:35:12<61:11:21,  3.20s/it]"
     ]
    },
    {
     "name": "stdout",
     "output_type": "stream",
     "text": [
      "                     차종 전장(mm)  전폭(㎜)  전고(㎜)  축거(㎜)\n",
      "1        1.6 CVVT L STD  4,480  1,735  1,470  2,610\n",
      "2        1.6 CVVT L DLX  4,480  1,735  1,470  2,610\n",
      "3           1.6 CVVT LX  4,480  1,735  1,470  2,610\n",
      "4          1.6 CVVT SLX  4,480  1,735  1,470  2,610\n",
      "5     1.6 CVVT GOLD SUP  4,480  1,735  1,470  2,610\n",
      "6  1.6 CVVT GOLD SPORTS  4,480  1,735  1,470  2,610\n",
      "7  1.6 CVVT GOLD SAFETY  4,480  1,735  1,470  2,610\n",
      "8     1.6 CVVT GOLD PRM  4,480  1,735  1,470  2,610\n",
      "9         2.0 CVVT GOLD  4,480  1,735  1,470  2,610\n"
     ]
    },
    {
     "name": "stderr",
     "output_type": "stream",
     "text": [
      "WebPage is:   2%|█                                                           | 1170/70000 [1:35:23<59:18:06,  3.10s/it]"
     ]
    },
    {
     "name": "stdout",
     "output_type": "stream",
     "text": [
      "            차종 전장(mm)  전폭(㎜)  전고(㎜)  축거(㎜)\n",
      "1   1.5 VGT LX  4,480  1,735  1,470  2,610\n",
      "2  1.5 VGT SLX  4,480  1,735  1,470  2,610\n"
     ]
    },
    {
     "name": "stderr",
     "output_type": "stream",
     "text": [
      "WebPage is:   2%|█                                                           | 1173/70000 [1:35:34<58:13:22,  3.05s/it]"
     ]
    },
    {
     "name": "stdout",
     "output_type": "stream",
     "text": [
      "            차종 전장(mm)  전폭(㎜)  전고(㎜)  축거(㎜)\n",
      "1   1.6 VGT LX  4,480  1,735  1,470  2,610\n",
      "2  1.6 VGT SLX  4,480  1,735  1,470  2,610\n"
     ]
    },
    {
     "name": "stderr",
     "output_type": "stream",
     "text": [
      "WebPage is:   2%|█                                                           | 1183/70000 [1:36:23<74:04:51,  3.88s/it]"
     ]
    },
    {
     "name": "stdout",
     "output_type": "stream",
     "text": [
      "                           차종 전장(mm)  전폭(㎜)  전고(㎜)  축거(㎜)\n",
      "1   GH 270 WELL-BEING SPECIAL  4,980  1,850  1,485  2,800\n",
      "2                  GH 270 DLX  4,980  1,850  1,485  2,800\n",
      "3              GH 270 DLX LUX  4,980  1,850  1,485  2,800\n",
      "4                  GH 270 SUP  4,980  1,850  1,485  2,800\n",
      "5              GH 270 SUP LUX  4,980  1,850  1,485  2,800\n",
      "6                  GH 300 DLX  4,980  1,850  1,485  2,800\n",
      "7              GH 300 DLX LUX  4,980  1,850  1,485  2,800\n",
      "8                  GH 300 SUP  4,980  1,850  1,485  2,800\n",
      "9          GH 300 SUP PREMIUM  4,980  1,850  1,485  2,800\n",
      "10                 GH 380 SUP  4,980  1,850  1,485  2,800\n",
      "11         GH 380 SUP PREMIUM  4,980  1,850  1,485  2,800\n"
     ]
    },
    {
     "name": "stderr",
     "output_type": "stream",
     "text": [
      "WebPage is:   2%|█                                                           | 1186/70000 [1:36:34<64:33:38,  3.38s/it]"
     ]
    },
    {
     "name": "stdout",
     "output_type": "stream",
     "text": [
      "                 차종 전장(mm)  전폭(㎜)  전고(㎜)  축거(㎜)\n",
      "1            1.5 SX  4,310  1,710  1,505  2,480\n",
      "2       1.5 CDX STD  4,310  1,710  1,505  2,480\n",
      "3       1.5 CDX DLX  4,310  1,710  1,505  2,480\n",
      "4       1.5 SX AUTO  4,310  1,710  1,505  2,480\n",
      "5  1.5 CDX STD AUTO  4,310  1,710  1,505  2,480\n",
      "6       1.5 DIAMOND  4,310  1,710  1,505  2,480\n",
      "7  1.5 CDX DLX AUTO  4,310  1,710  1,505  2,480\n",
      "8  1.5 DIAMOND AUTO  4,310  1,710  1,505  2,480\n"
     ]
    },
    {
     "name": "stderr",
     "output_type": "stream",
     "text": [
      "WebPage is:   2%|█                                                           | 1190/70000 [1:36:50<66:29:07,  3.48s/it]"
     ]
    },
    {
     "name": "stdout",
     "output_type": "stream",
     "text": [
      "                     차종 전장(mm)  전폭(㎜)  전고(㎜)  축거(㎜)\n",
      "1            1.6 EX STD  4,515  1,725  1,445  2,600\n",
      "2            1.6 EX DLX  4,515  1,725  1,445  2,600\n",
      "3       1.6 EX STD AUTO  4,515  1,725  1,445  2,600\n",
      "4       1.6 EX DLX AUTO  4,515  1,725  1,445  2,600\n",
      "5           1.6 LUX STD  4,515  1,725  1,445  2,600\n",
      "6               1.6 MAX  4,515  1,725  1,445  2,600\n",
      "7          1.6 LUX AUTO  4,515  1,725  1,445  2,600\n",
      "8   1.6 PLATINUM MANUAL  4,515  1,725  1,445  2,600\n",
      "9           1.6 DIAMOND  4,515  1,725  1,445  2,600\n",
      "10         1.6 MAX AUTO  4,515  1,725  1,445  2,600\n",
      "11    1.6 PLATINUM AUTO  4,515  1,725  1,445  2,600\n",
      "12     1.6 DIAMOND AUTO  4,515  1,725  1,445  2,600\n"
     ]
    },
    {
     "name": "stderr",
     "output_type": "stream",
     "text": [
      "WebPage is:   2%|█                                                           | 1193/70000 [1:37:01<61:27:40,  3.22s/it]"
     ]
    },
    {
     "name": "stdout",
     "output_type": "stream",
     "text": [
      "                 차종 전장(mm)  전폭(㎜)  전고(㎜)  축거(㎜)\n",
      "1           1.6 LUX  4,295  1,725  1,445  2,600\n",
      "2           1.6 MAX  4,295  1,725  1,445  2,600\n",
      "3      1.6 LUX AUTO  4,295  1,725  1,445  2,600\n",
      "4       1.6 DIAMOND  4,295  1,725  1,445  2,600\n",
      "5      1.6 MAX AUTO  4,295  1,725  1,445  2,600\n",
      "6  1.6 DIAMOND AUTO  4,295  1,725  1,445  2,600\n"
     ]
    },
    {
     "name": "stderr",
     "output_type": "stream",
     "text": [
      "WebPage is:   2%|█                                                           | 1206/70000 [1:38:04<71:52:06,  3.76s/it]"
     ]
    },
    {
     "name": "stdout",
     "output_type": "stream",
     "text": [
      "         차종 전장(mm)  전폭(㎜)  전고(㎜)  축거(㎜)\n",
      "1  2.8 AUTO  5,195  1,845  1,445  2,940\n",
      "2  3.6 AUTO  5,195  1,845  1,445  2,940\n"
     ]
    },
    {
     "name": "stderr",
     "output_type": "stream",
     "text": [
      "WebPage is:   2%|█                                                           | 1209/70000 [1:38:15<64:00:39,  3.35s/it]"
     ]
    },
    {
     "name": "stdout",
     "output_type": "stream",
     "text": [
      "                     차종 전장(mm)  전폭(㎜)  전고(㎜)  축거(㎜)\n",
      "1          V 1.2 EK STD  3,895  1,670  1,495  2,480\n",
      "2          V 1.2 MK STD  3,895  1,670  1,495  2,480\n",
      "3              V 1.5 LK  3,895  1,670  1,495  2,480\n",
      "4   V 1.2 ECONO DIAMOND  3,895  1,670  1,495  2,480\n",
      "5          V 1.2 EK STD  3,895  1,670  1,495  2,480\n",
      "6          V 1.2 MK STD  3,895  1,670  1,495  2,480\n",
      "7         V 1.5 DIAMOND  3,895  1,670  1,495  2,480\n",
      "8              V 1.5 LK  3,895  1,670  1,495  2,480\n",
      "9   V 1.2 ECONO DIAMOND  3,895  1,670  1,495  2,480\n",
      "10        V 1.5 DIAMOND  3,895  1,670  1,495  2,480\n"
     ]
    },
    {
     "name": "stderr",
     "output_type": "stream",
     "text": [
      "WebPage is:   2%|█                                                           | 1212/70000 [1:38:27<63:05:14,  3.30s/it]"
     ]
    },
    {
     "name": "stdout",
     "output_type": "stream",
     "text": [
      "                  차종 전장(mm)  전폭(㎜)  전고(㎜)  축거(㎜)\n",
      "1             1.5 PE  4,510  1,710  1,440  2,535\n",
      "2        1.5 PE AUTO  4,510  1,710  1,440  2,535\n",
      "3             1.6 SE  4,510  1,710  1,440  2,535\n",
      "4        1.6 SE PLUS  4,510  1,710  1,440  2,535\n",
      "5             1.6 XE  4,510  1,710  1,440  2,535\n",
      "6        1.6 SE AUTO  4,510  1,710  1,440  2,535\n",
      "7             1.6 LE  4,510  1,710  1,440  2,535\n",
      "8   1.6 SE PLUS AUTO  4,510  1,710  1,440  2,535\n",
      "9        1.6 XE AUTO  4,510  1,710  1,440  2,535\n",
      "10       1.6 LE AUTO  4,510  1,710  1,440  2,535\n",
      "11  1.6 LE PLUS AUTO  4,510  1,710  1,440  2,535\n"
     ]
    },
    {
     "name": "stderr",
     "output_type": "stream",
     "text": [
      "WebPage is:   2%|█                                                           | 1215/70000 [1:38:38<60:53:06,  3.19s/it]"
     ]
    },
    {
     "name": "stdout",
     "output_type": "stream",
     "text": [
      "            차종 전장(mm)  전폭(㎜)  전고(㎜)  축거(㎜)\n",
      "1       2.0 PE  4,895  1,785  1,475  2,775\n",
      "2       2.0 SE  4,895  1,785  1,475  2,775\n",
      "3   2.0 PE A/T  4,895  1,785  1,475  2,775\n",
      "4   2.0 SE A/T  4,895  1,785  1,475  2,775\n",
      "5  2.0 SE PLUS  4,895  1,785  1,475  2,775\n",
      "6   2.0 XE A/T  4,895  1,785  1,475  2,775\n",
      "7   2.0 LE A/T  4,895  1,785  1,475  2,775\n",
      "8  2.0 LE PLUS  4,895  1,785  1,475  2,775\n"
     ]
    },
    {
     "name": "stderr",
     "output_type": "stream",
     "text": [
      "WebPage is:   2%|█                                                           | 1222/70000 [1:39:10<69:52:52,  3.66s/it]"
     ]
    },
    {
     "name": "stdout",
     "output_type": "stream",
     "text": [
      "       차종 전장(mm)  전폭(㎜)  전고(㎜)  축거(㎜)\n",
      "1  2.3 SE  4,945  1,790  1,475  2,775\n",
      "2  2.3 XE  4,945  1,790  1,475  2,775\n",
      "3  2.3 LE  4,945  1,790  1,475  2,775\n",
      "4  3.5 XE  4,945  1,790  1,475  2,775\n",
      "5  3.5 RE  4,945  1,790  1,475  2,775\n"
     ]
    },
    {
     "name": "stderr",
     "output_type": "stream",
     "text": [
      "WebPage is:   2%|█                                                           | 1225/70000 [1:39:21<63:01:57,  3.30s/it]"
     ]
    },
    {
     "name": "stdout",
     "output_type": "stream",
     "text": [
      "                     차종 전장(mm)  전폭(㎜)  전고(㎜)  축거(㎜)\n",
      "1       2.0 CX5 DLX 2WD  4,455  1,880  1,740  2,740\n",
      "2       2.0 CX5 SUP 2WD  4,455  1,880  1,740  2,740\n",
      "3  2.0 CX5 DLX 2WD AUTO  4,455  1,880  1,740  2,740\n",
      "4  2.0 CX5 SUP 2WD AUTO  4,455  1,880  1,740  2,740\n",
      "5       2.0 CX7 DLX 2WD  4,455  1,880  1,740  2,740\n",
      "6       2.0 CX7 SUP 2WD  4,455  1,880  1,740  2,740\n",
      "7  2.0 CX7 DLX 2WD AUTO  4,455  1,880  1,740  2,740\n",
      "8  2.0 CX7 SUP 2WD AUTO  4,455  1,880  1,740  2,740\n"
     ]
    },
    {
     "name": "stderr",
     "output_type": "stream",
     "text": [
      "WebPage is:   2%|█                                                           | 1228/70000 [1:39:32<62:24:01,  3.27s/it]"
     ]
    },
    {
     "name": "stdout",
     "output_type": "stream",
     "text": [
      "                  차종 전장(mm)  전폭(㎜)  전고(㎜)  축거(㎜)\n",
      "1      RX5 TI CT STD  4,795  1,870  1,760  2,820\n",
      "2      RX5 TI CT DLX  4,795  1,870  1,760  2,820\n",
      "3         RX5 TI STD  4,795  1,870  1,760  2,820\n",
      "4      RX5 TI CT STD  4,795  1,870  1,760  2,820\n",
      "5         RX5 TI DLX  4,795  1,870  1,760  2,820\n",
      "6      RX5 TI CT DLX  4,795  1,870  1,760  2,820\n",
      "7         RX5 TI STD  4,795  1,870  1,760  2,820\n",
      "8        RX5 EDI STD  4,795  1,870  1,760  2,820\n",
      "9         RX5 TI DLX  4,795  1,870  1,760  2,820\n",
      "10       RX5 EDI DLX  4,795  1,870  1,760  2,820\n",
      "11  RX5 EDI STD AUTO  4,795  1,870  1,760  2,820\n",
      "12       RX5 EDI SUP  4,795  1,870  1,760  2,820\n",
      "13       RX5 EDI DLX  4,795  1,870  1,760  2,820\n",
      "14  RX5 EDI SUP AUTO  4,795  1,870  1,760  2,820\n",
      "15  RX5 EDI NOBLESSE  4,795  1,870  1,760  2,820\n",
      "16   RX6 IL NOBLESSE  4,795  1,870  1,760  2,820\n"
     ]
    },
    {
     "name": "stderr",
     "output_type": "stream",
     "text": [
      "WebPage is:   2%|█                                                           | 1231/70000 [1:39:43<60:36:12,  3.17s/it]"
     ]
    },
    {
     "name": "stdout",
     "output_type": "stream",
     "text": [
      "                   차종 전장(mm)  전폭(㎜)  전고(㎜)  축거(㎜)\n",
      "1    CM500S REVERENCE  5,135  1,825  1,465  2,900\n",
      "2  CM500S REVERENCE S  5,135  1,825  1,465  2,900\n",
      "3      CM500S TRIUMPH  5,135  1,825  1,465  2,900\n",
      "4      CM500S MAJESTY  5,135  1,825  1,465  2,900\n",
      "5    CM500S MAJESTY S  5,135  1,825  1,465  2,900\n",
      "6      CM600S TRIUMPH  5,135  1,825  1,465  2,900\n",
      "7      CM600S MAJESTY  5,135  1,825  1,465  2,900\n",
      "8    CM600S MAJESTY S  5,135  1,825  1,465  2,900\n",
      "9    CM600L LIMOUSINE  5,435  1,825  1,475  3,200\n"
     ]
    },
    {
     "name": "stderr",
     "output_type": "stream",
     "text": [
      "WebPage is:   2%|█                                                           | 1235/70000 [1:40:00<65:42:46,  3.44s/it]"
     ]
    },
    {
     "name": "stdout",
     "output_type": "stream",
     "text": [
      "                      차종 전장(mm)  전폭(㎜)  전고(㎜)  축거(㎜)\n",
      "1        2.0 2WD EV5 DLX  4,660  1,880  1,760  2,740\n",
      "2        2.0 2WD EV5 SUP  4,660  1,880  1,760  2,740\n",
      "3        2.0 4WD EV5 DLX  4,660  1,880  1,760  2,740\n",
      "4        2.0 2WD LV5 DLX  4,660  1,880  1,760  2,740\n",
      "5        2.0 4WD EV5 SUP  4,660  1,880  1,760  2,740\n",
      "6   2.0 2WD EV5 DLX AUTO  4,660  1,880  1,760  2,740\n",
      "7        2.0 2WD LV5 SUP  4,660  1,880  1,760  2,740\n",
      "8   2.0 2WD EV5 SUP AUTO  4,660  1,880  1,760  2,740\n",
      "9        2.0 4WD LV5 DLX  4,660  1,880  1,760  2,740\n",
      "10  2.0 2WD LV5 DLX AUTO  4,660  1,880  1,760  2,740\n",
      "11  2.0 4WD EV5 DLX AUTO  4,660  1,880  1,760  2,740\n",
      "12       2.0 4WD LV5 SUP  4,660  1,880  1,760  2,740\n",
      "13  2.0 4WD EV5 SUP AUTO  4,660  1,880  1,760  2,740\n",
      "14  2.0 2WD LV5 SUP AUTO  4,660  1,880  1,760  2,740\n",
      "15  2.0 4WD LV5 DLX AUTO  4,660  1,880  1,760  2,740\n",
      "16  2.0 4WD LV5 SUP AUTO  4,660  1,880  1,760  2,740\n"
     ]
    },
    {
     "name": "stderr",
     "output_type": "stream",
     "text": [
      "WebPage is:   2%|█                                                           | 1241/70000 [1:40:26<69:02:21,  3.61s/it]"
     ]
    },
    {
     "name": "stdout",
     "output_type": "stream",
     "text": [
      "                            차종 전장(mm)  전폭(㎜)  전고(㎜)  축거(㎜)\n",
      "1       2.0 N20 VGT DELUXE STD  4,800  1,830  1,475  2,730\n",
      "2       2.0 N20 VGT LUXURY STD  4,800  1,830  1,475  2,730\n",
      "3  2.0 N20 VGT DELUXE AUTO STD  4,800  1,830  1,475  2,730\n",
      "4  2.0 N20 VGT LUXURY AUTO STD  4,800  1,830  1,475  2,730\n",
      "5  2.0 N20 VGT DELUXE AUTO DLX  4,800  1,830  1,475  2,730\n",
      "6  2.0 N20 VGT LUXURY AUTO DLX  4,800  1,830  1,475  2,730\n",
      "7  2.0 N20 VGT LUXURY AUTO SUP  4,800  1,830  1,475  2,730\n"
     ]
    },
    {
     "name": "stderr",
     "output_type": "stream",
     "text": [
      "WebPage is:   2%|█                                                           | 1244/70000 [1:40:38<65:26:48,  3.43s/it]"
     ]
    },
    {
     "name": "stdout",
     "output_type": "stream",
     "text": [
      "                                차종 전장(mm)  전폭(㎜)  전고(㎜)  축거(㎜)\n",
      "1                           2.0 L6  4,805  1,810  1,450  2,700\n",
      "2                    2.0 L6 SE STD  4,805  1,810  1,450  2,700\n",
      "3                       2.0 L6 DLX  4,805  1,810  1,450  2,700\n",
      "4                    2.0 L6 SE DLX  4,805  1,810  1,450  2,700\n",
      "5                      2.0 L6 AUTO  4,805  1,810  1,450  2,700\n",
      "6                   2.0 L6 SE AUTO  4,805  1,810  1,450  2,700\n",
      "7                  2.0 L6 DLX AUTO  4,805  1,810  1,450  2,700\n",
      "8               2.0 L6 SE DLX AUTO  4,805  1,810  1,450  2,700\n",
      "9                   2.0 L6 SX AUTO  4,805  1,810  1,450  2,700\n",
      "10    2.0 L6 SX DARK GREY DLX AUTO  4,805  1,810  1,450  2,700\n",
      "11   2.0 L6 SX DEEP BROWN DLX AUTO  4,805  1,810  1,450  2,700\n",
      "12        2.0 L6 SX BEIGE DLX AUTO  4,805  1,810  1,450  2,700\n",
      "13                 2.0 L6 CDX AUTO  4,805  1,810  1,450  2,700\n",
      "14   2.0 L6 CDX DARK GREY DLX AUTO  4,805  1,810  1,450  2,700\n",
      "15  2.0 L6 CDX DEEP BROWN DLX AUTO  4,805  1,810  1,450  2,700\n",
      "16       2.0 L6 CDX BEIGE DLX AUTO  4,805  1,810  1,450  2,700\n",
      "17                     2.5 L6 AUTO  4,805  1,810  1,450  2,700\n",
      "18       2.5 L6 DARK GREY DLX AUTO  4,805  1,810  1,450  2,700\n",
      "19      2.5 L6 DEEP BROWN DLX AUTO  4,805  1,810  1,450  2,700\n",
      "20           2.5 L6 BEIGE DLX AUTO  4,805  1,810  1,450  2,700\n"
     ]
    },
    {
     "name": "stderr",
     "output_type": "stream",
     "text": [
      "WebPage is:   2%|█                                                           | 1248/70000 [1:40:54<64:42:58,  3.39s/it]"
     ]
    },
    {
     "name": "stdout",
     "output_type": "stream",
     "text": [
      "                  차종 전장(mm)  전폭(㎜)  전고(㎜)  축거(㎜)\n",
      "1    2.9 CRDI GX DLX  4,810  1,985  1,760  2,890\n",
      "2    2.9 CRDI GX SUP  4,810  1,985  1,760  2,890\n",
      "3   2.9 CRDI GLX STD  4,810  1,985  1,760  2,890\n",
      "4   2.9 CRDI GLX DLX  4,810  1,985  1,760  2,890\n",
      "5   2.9 CRDI GLX SUP  4,810  1,985  1,760  2,890\n",
      "6  2.9 CRDI LTD AUTO  4,810  1,985  1,760  2,890\n"
     ]
    },
    {
     "name": "stderr",
     "output_type": "stream",
     "text": [
      "WebPage is:   2%|█                                                           | 1251/70000 [1:41:05<63:03:30,  3.30s/it]"
     ]
    },
    {
     "name": "stdout",
     "output_type": "stream",
     "text": [
      "                                 차종 전장(mm)  전폭(㎜)  전고(㎜)  축거(㎜)\n",
      "1                        3.3 JS DLX  5,120  1,870  1,480  2,840\n",
      "2                        3.3 JS LUX  5,120  1,870  1,480  2,840\n",
      "3                    3.3 JS PREMIER  5,120  1,870  1,480  2,840\n",
      "4                        3.8 JS DLX  5,120  1,870  1,480  2,840\n",
      "5                3.3 JS PREMIER VIP  5,120  1,870  1,480  2,840\n",
      "6                        3.8 JS LUX  5,120  1,870  1,480  2,840\n",
      "7                    3.8 JS PREMIER  5,120  1,870  1,480  2,840\n",
      "8                3.8 JS PREMIER VIP  5,120  1,870  1,480  2,840\n",
      "9                    4.5 VS PREMIER  5,120  1,870  1,480  2,840\n",
      "10               4.5 VS PREMIER VIP  5,120  1,870  1,480  2,840\n",
      "11                           3.8 JL  5,390  1,870  1,485  3,090\n",
      "12                           4.5 VL  5,390  1,870  1,485  3,090\n",
      "13  3.3 JS ALCANTARA SELECTION AUTO  5,120  1,870  1,480  2,840\n",
      "14  3.8 JS ALCANTARA SELECTION AUTO  5,120  1,870  1,480  2,840\n",
      "15  4.5 VS ALCANTARA SELECTION AUTO  5,120  1,870  1,480  2,840\n"
     ]
    },
    {
     "name": "stderr",
     "output_type": "stream",
     "text": [
      "WebPage is:   2%|█                                                           | 1267/70000 [1:42:24<73:44:40,  3.86s/it]"
     ]
    },
    {
     "name": "stdout",
     "output_type": "stream",
     "text": [
      "                    차종 전장(mm)  전폭(㎜)  전고(㎜)  축거(㎜)\n",
      "1         0.8 CITY STD  3,495  1,495  1,500  2,345\n",
      "2         0.8 CITY DLX  3,495  1,495  1,500  2,345\n",
      "3          0.8 JOY STD  3,495  1,495  1,500  2,345\n",
      "4          0.8 JOY DLX  3,495  1,495  1,500  2,345\n",
      "5        0.8 SUPER STD  3,495  1,495  1,500  2,345\n",
      "6    0.8 CITY STD AUTO  3,495  1,495  1,500  2,345\n",
      "7        0.8 SUPER DLX  3,495  1,495  1,500  2,345\n",
      "8    0.8 CITY DLX AUTO  3,495  1,495  1,500  2,345\n",
      "9     0.8 JOY STD AUTO  3,495  1,495  1,500  2,345\n",
      "10    0.8 JOY DLX AUTO  3,495  1,495  1,500  2,345\n",
      "11  0.8 SUPER STD AUTO  3,495  1,495  1,500  2,345\n",
      "12  0.8 SUPER DLX AUTO  3,495  1,495  1,500  2,345\n"
     ]
    },
    {
     "name": "stderr",
     "output_type": "stream",
     "text": [
      "WebPage is:   2%|█                                                           | 1273/70000 [1:42:51<70:12:43,  3.68s/it]"
     ]
    },
    {
     "name": "stdout",
     "output_type": "stream",
     "text": [
      "                      차종 전장(mm)  전폭(㎜)  전고(㎜)  축거(㎜)\n",
      "1       RX5 2WD STD AUTO  4,735  1,890  1,840  2,835\n",
      "2       RX5 2WD DLX AUTO  4,735  1,890  1,840  2,835\n",
      "3       RX5 4WD DLX AUTO  4,735  1,890  1,840  2,835\n",
      "4       RX5 4WD SUP AUTO  4,735  1,890  1,840  2,835\n",
      "5       RX7 AWD DLX AUTO  4,735  1,890  1,840  2,830\n",
      "6       RX7 AWD SUP AUTO  4,735  1,890  1,840  2,830\n",
      "7  NOBLESSE AWD DLX AUTO  4,735  1,890  1,840  2,830\n",
      "8  NOBLESSE AWD SUP AUTO  4,735  1,890  1,840  2,830\n"
     ]
    },
    {
     "name": "stderr",
     "output_type": "stream",
     "text": [
      "WebPage is:   2%|█                                                           | 1277/70000 [1:43:07<66:00:53,  3.46s/it]"
     ]
    },
    {
     "name": "stdout",
     "output_type": "stream",
     "text": [
      "                차종 전장(mm)  전폭(㎜)  전고(㎜)  축거(㎜)\n",
      "1   2.5 4X2 LX DLX  4,590  1,885  1,725  2,710\n",
      "2   2.5 4X2 LX SUP  4,590  1,885  1,725  2,710\n",
      "3  2.5 4X2 TLX DLX  4,590  1,885  1,725  2,710\n",
      "4  2.5 4X2 TLX SUP  4,590  1,885  1,725  2,710\n",
      "5  2.5 4X2 LIMITED  4,590  1,885  1,725  2,710\n",
      "6  2.5 4X2 PREMIUM  4,590  1,885  1,725  2,710\n"
     ]
    },
    {
     "name": "stderr",
     "output_type": "stream",
     "text": [
      "WebPage is:   2%|█                                                           | 1280/70000 [1:43:18<61:30:42,  3.22s/it]"
     ]
    },
    {
     "name": "stdout",
     "output_type": "stream",
     "text": [
      "                     차종 전장(mm)  전폭(㎜)  전고(㎜)  축거(㎜)\n",
      "1        2.5 4X4 LX DLX  4,590  1,885  1,725  2,710\n",
      "2        2.5 4X4 LX SUP  4,590  1,885  1,725  2,710\n",
      "3       2.5 4X4 TLX DLX  4,590  1,885  1,725  2,710\n",
      "4       2.5 4X4 TLX SUP  4,590  1,885  1,725  2,710\n",
      "5  2.5 4X4 LIMITED AUTO  4,590  1,885  1,725  2,710\n",
      "6  2.5 4X4 PREMIUM AUTO  4,590  1,885  1,725  2,710\n"
     ]
    },
    {
     "name": "stderr",
     "output_type": "stream",
     "text": [
      "WebPage is:   2%|█                                                           | 1283/70000 [1:43:29<59:44:14,  3.13s/it]"
     ]
    },
    {
     "name": "stdout",
     "output_type": "stream",
     "text": [
      "              차종 전장(mm)  전폭(㎜)  전고(㎜)  축거(㎜)\n",
      "1    COACH 5 DLX  3,230  1,400  1,920  1,840\n",
      "2    COACH 7 DLX  3,230  1,400  1,920  1,840\n",
      "3  COACH 5 SUPER  3,230  1,400  1,920  1,840\n",
      "4  COACH 7 SUPER  3,230  1,400  1,920  1,840\n"
     ]
    },
    {
     "name": "stderr",
     "output_type": "stream",
     "text": [
      "WebPage is:   2%|█                                                           | 1296/70000 [1:44:33<73:18:23,  3.84s/it]"
     ]
    },
    {
     "name": "stdout",
     "output_type": "stream",
     "text": [
      "                      차종 전장(mm)  전폭(㎜)  전고(㎜)  축거(㎜)\n",
      "1         2.0 LPI GX DLX  4,545  1,820  1,650  2,700\n",
      "2         2.0 LPI GX SUP  4,545  1,820  1,650  2,700\n",
      "3    2.0 LPI GX DLX AUTO  4,545  1,820  1,650  2,700\n",
      "4        2.0 LPI GLX DLX  4,545  1,820  1,720  2,700\n",
      "5    2.0 LPI GX SUP AUTO  4,545  1,820  1,650  2,700\n",
      "6        2.0 LPI GLX SUP  4,545  1,820  1,720  2,700\n",
      "7   2.0 LPI GLX DLX AUTO  4,545  1,820  1,720  2,700\n",
      "8   2.0 LPI GLX SUP AUTO  4,545  1,820  1,720  2,700\n",
      "9        2.0 LPI LIMITED  4,545  1,820  1,720  2,700\n",
      "10       2.0 LPI PREMIUM  4,545  1,820  1,720  2,700\n"
     ]
    },
    {
     "name": "stderr",
     "output_type": "stream",
     "text": [
      "WebPage is:   2%|█                                                           | 1299/70000 [1:44:44<64:55:03,  3.40s/it]"
     ]
    },
    {
     "name": "stdout",
     "output_type": "stream",
     "text": [
      "                      차종 전장(mm)  전폭(㎜)  전고(㎜)  축거(㎜)\n",
      "1         2.0 VGT GX DLX  4,545  1,820  1,650  2,700\n",
      "2         2.0 VGT GX SUP  4,545  1,820  1,650  2,700\n",
      "3    2.0 VGT GX DLX AUTO  4,545  1,820  1,650  2,700\n",
      "4        2.0 VGT GLX DLX  4,545  1,820  1,720  2,700\n",
      "5    2.0 VGT GX SUP AUTO  4,545  1,820  1,650  2,700\n",
      "6        2.0 VGT GLX SUP  4,545  1,820  1,720  2,700\n",
      "7   2.0 VGT GLX DLX AUTO  4,545  1,820  1,720  2,700\n",
      "8   2.0 VGT GLX SUP AUTO  4,545  1,820  1,720  2,700\n",
      "9        2.0 VGT LIMITED  4,545  1,820  1,720  2,700\n",
      "10       2.0 VGT PREMIUM  4,545  1,820  1,720  2,700\n"
     ]
    },
    {
     "name": "stderr",
     "output_type": "stream",
     "text": [
      "WebPage is:   2%|█                                                           | 1303/70000 [1:45:00<64:46:07,  3.39s/it]"
     ]
    },
    {
     "name": "stdout",
     "output_type": "stream",
     "text": [
      "                 차종 전장(mm)  전폭(㎜)  전고(㎜)  축거(㎜)\n",
      "1   2.0 CRDI GL STD  4,695  1,840  1,710  2,830\n",
      "2   2.0 CRDI GL DLX  4,695  1,840  1,710  2,830\n",
      "3   2.0 VGT GLS DLX  4,695  1,840  1,710  2,830\n",
      "4   2.0 VGT GLS SUP  4,695  1,840  1,710  2,830\n",
      "5  2.0 VGT GOLD STD  4,695  1,840  1,710  2,830\n",
      "6  2.0 VGT GOLD DLX  4,695  1,840  1,710  2,830\n",
      "7  2.0 VGT GOLD SUP  4,695  1,840  1,710  2,830\n"
     ]
    },
    {
     "name": "stderr",
     "output_type": "stream",
     "text": [
      "WebPage is:   2%|█                                                           | 1306/70000 [1:45:11<60:38:05,  3.18s/it]"
     ]
    },
    {
     "name": "stdout",
     "output_type": "stream",
     "text": [
      "                 차종 전장(mm)  전폭(㎜)  전고(㎜)  축거(㎜)\n",
      "1   2.0 DOHC GL STD  4,695  1,840  1,710  2,830\n",
      "2   2.0 DOHC GL DLX  4,695  1,840  1,710  2,830\n",
      "3  2.0 DOHC GLS STD  4,695  1,840  1,710  2,830\n",
      "4  2.0 DOHC GLS DLX  4,695  1,840  1,710  2,830\n"
     ]
    },
    {
     "name": "stderr",
     "output_type": "stream",
     "text": [
      "WebPage is:   2%|█                                                           | 1309/70000 [1:45:22<59:36:08,  3.12s/it]"
     ]
    },
    {
     "name": "stdout",
     "output_type": "stream",
     "text": [
      "                 차종 전장(mm)  전폭(㎜)  전고(㎜)  축거(㎜)\n",
      "1  2.0 VGT SUP AUTO  4,755  1,820  1,480  2,720\n",
      "2       2.0 VGT SUP  4,755  1,820  1,480  2,720\n",
      "3  2.0 VGT DLX AUTO  4,755  1,820  1,480  2,720\n",
      "4  2.0 VGT STD AUTO  4,755  1,820  1,480  2,720\n",
      "5       2.0 VGT DLX  4,755  1,820  1,480  2,720\n",
      "6       2.0 VGT STD  4,755  1,820  1,480  2,720\n"
     ]
    },
    {
     "name": "stderr",
     "output_type": "stream",
     "text": [
      "WebPage is:   2%|█▏                                                          | 1315/70000 [1:45:49<68:29:56,  3.59s/it]"
     ]
    },
    {
     "name": "stdout",
     "output_type": "stream",
     "text": [
      "                     차종 전장(mm)  전폭(㎜)  전고(㎜)  축거(㎜)\n",
      "1       2.0 CX5 DLX 2WD  4,455  1,880  1,740  2,740\n",
      "2       2.0 CX5 SUP 2WD  4,455  1,880  1,740  2,740\n",
      "3  2.0 CX5 DLX 2WD AUTO  4,455  1,880  1,740  2,740\n",
      "4  2.0 CX5 SUP 2WD AUTO  4,455  1,880  1,740  2,740\n",
      "5       2.0 CX7 DLX 2WD  4,455  1,880  1,740  2,740\n",
      "6       2.0 CX7 SUP 2WD  4,455  1,880  1,740  2,740\n",
      "7  2.0 CX7 DLX 2WD AUTO  4,455  1,880  1,740  2,740\n",
      "8  2.0 CX7 SUP 2WD AUTO  4,455  1,880  1,740  2,740\n"
     ]
    },
    {
     "name": "stderr",
     "output_type": "stream",
     "text": [
      "WebPage is:   2%|█▏                                                          | 1319/70000 [1:46:05<68:15:23,  3.58s/it]"
     ]
    },
    {
     "name": "stdout",
     "output_type": "stream",
     "text": [
      "                              차종 전장(mm)  전폭(㎜)  전고(㎜)  축거(㎜)\n",
      "1              1.6 VVT E16 VALUE  4,505  1,775  1,480  2,650\n",
      "2              1.6 VVT E16 VALUE  4,505  1,775  1,480  2,650\n",
      "3             1.6 VVT E16 DELUXE  4,505  1,775  1,480  2,650\n",
      "4             1.6 VVT E16 DELUXE  4,505  1,775  1,480  2,650\n",
      "5             1.6 VVT S16 LUXURY  4,505  1,775  1,480  2,650\n",
      "6             1.6 VVT S16 LUXURY  4,505  1,775  1,480  2,650\n",
      "7            1.6 VVT S16 PREMIER  4,505  1,775  1,480  2,650\n",
      "8            1.6 VVT S16 PREMIER  4,505  1,775  1,480  2,650\n",
      "9   1.6 VVT S16 ELEGANCE SPECIAL  4,505  1,775  1,480  2,650\n",
      "10               1.6 VVT S16 TOP  4,505  1,775  1,480  2,650\n",
      "11           1.6 VVT X16 PREMIER  4,505  1,775  1,480  2,650\n",
      "12           1.6 VVT X16 PREMIER  4,505  1,775  1,480  2,650\n",
      "13               1.6 VVT X16 TOP  4,505  1,775  1,480  2,650\n",
      "14               1.6 VVT X16 TOP  4,505  1,775  1,480  2,650\n",
      "15           2.0 VVT S20 PREMIER  4,505  1,775  1,480  2,650\n",
      "16           2.0 VVT S20 PREMIER  4,505  1,775  1,480  2,650\n",
      "17               2.0 VVT S20 TOP  4,505  1,775  1,480  2,650\n",
      "18               2.0 VVT X20 TOP  4,505  1,775  1,480  2,650\n",
      "19               2.0 VVT X20 TOP  4,505  1,775  1,480  2,650\n"
     ]
    },
    {
     "name": "stderr",
     "output_type": "stream",
     "text": [
      "WebPage is:   2%|█▏                                                          | 1321/70000 [1:46:16<92:05:28,  4.83s/it]\n"
     ]
    },
    {
     "ename": "IndexError",
     "evalue": "list index out of range",
     "output_type": "error",
     "traceback": [
      "\u001b[1;31m---------------------------------------------------------------------------\u001b[0m",
      "\u001b[1;31mIndexError\u001b[0m                                Traceback (most recent call last)",
      "\u001b[1;32m<ipython-input-4-b46cdc016df4>\u001b[0m in \u001b[0;36m<module>\u001b[1;34m\u001b[0m\n\u001b[0;32m     30\u001b[0m     \u001b[0mtbody\u001b[0m \u001b[1;33m=\u001b[0m \u001b[0mdriver\u001b[0m\u001b[1;33m.\u001b[0m\u001b[0mfind_element_by_tag_name\u001b[0m\u001b[1;33m(\u001b[0m\u001b[1;34m\"tbody\"\u001b[0m\u001b[1;33m)\u001b[0m\u001b[1;33m\u001b[0m\u001b[1;33m\u001b[0m\u001b[0m\n\u001b[0;32m     31\u001b[0m     \u001b[1;32mif\u001b[0m \u001b[0mtbody\u001b[0m\u001b[1;33m.\u001b[0m\u001b[0mtext\u001b[0m \u001b[1;33m!=\u001b[0m \u001b[1;34m'세부모델'\u001b[0m\u001b[1;33m:\u001b[0m\u001b[1;33m\u001b[0m\u001b[1;33m\u001b[0m\u001b[0m\n\u001b[1;32m---> 32\u001b[1;33m         \u001b[0mtext\u001b[0m \u001b[1;33m=\u001b[0m \u001b[0mcarCrawling1_set\u001b[0m\u001b[1;33m(\u001b[0m\u001b[0mtbody\u001b[0m\u001b[1;33m)\u001b[0m\u001b[1;33m;\u001b[0m\u001b[1;33m\u001b[0m\u001b[1;33m\u001b[0m\u001b[0m\n\u001b[0m\u001b[0;32m     33\u001b[0m         \u001b[0mcontext\u001b[0m \u001b[1;33m=\u001b[0m \u001b[0mpd\u001b[0m\u001b[1;33m.\u001b[0m\u001b[0mconcat\u001b[0m\u001b[1;33m(\u001b[0m\u001b[1;33m[\u001b[0m\u001b[0mcontext\u001b[0m\u001b[1;33m,\u001b[0m\u001b[0mtext\u001b[0m\u001b[1;33m]\u001b[0m\u001b[1;33m)\u001b[0m\u001b[1;33m\u001b[0m\u001b[1;33m\u001b[0m\u001b[0m\n\u001b[0;32m     34\u001b[0m     \u001b[1;32melse\u001b[0m \u001b[1;33m:\u001b[0m\u001b[1;33m\u001b[0m\u001b[1;33m\u001b[0m\u001b[0m\n",
      "\u001b[1;32m<ipython-input-2-742f6246aa5d>\u001b[0m in \u001b[0;36mcarCrawling1_set\u001b[1;34m(tbody)\u001b[0m\n\u001b[0;32m     16\u001b[0m         \u001b[1;32mfor\u001b[0m \u001b[0mtext_count\u001b[0m \u001b[1;32min\u001b[0m \u001b[0mrange\u001b[0m\u001b[1;33m(\u001b[0m\u001b[0mlen_text\u001b[0m\u001b[1;33m)\u001b[0m\u001b[1;33m:\u001b[0m\u001b[1;33m\u001b[0m\u001b[1;33m\u001b[0m\u001b[0m\n\u001b[0;32m     17\u001b[0m             \u001b[1;32mif\u001b[0m \u001b[0mi\u001b[0m \u001b[1;33m==\u001b[0m \u001b[1;36m2\u001b[0m\u001b[1;33m:\u001b[0m\u001b[1;33m\u001b[0m\u001b[1;33m\u001b[0m\u001b[0m\n\u001b[1;32m---> 18\u001b[1;33m                 \u001b[0mtext\u001b[0m\u001b[1;33m[\u001b[0m\u001b[0mi\u001b[0m\u001b[1;33m]\u001b[0m\u001b[1;33m.\u001b[0m\u001b[0mappend\u001b[0m\u001b[1;33m(\u001b[0m\u001b[0mt\u001b[0m\u001b[1;33m[\u001b[0m\u001b[0mtext_count\u001b[0m\u001b[1;33m+\u001b[0m\u001b[1;36m1\u001b[0m\u001b[1;33m]\u001b[0m\u001b[1;33m.\u001b[0m\u001b[0mtext\u001b[0m\u001b[1;33m)\u001b[0m\u001b[1;33m\u001b[0m\u001b[1;33m\u001b[0m\u001b[0m\n\u001b[0m\u001b[0;32m     19\u001b[0m             \u001b[1;32melse\u001b[0m\u001b[1;33m:\u001b[0m\u001b[1;33m\u001b[0m\u001b[1;33m\u001b[0m\u001b[0m\n\u001b[0;32m     20\u001b[0m                 \u001b[0mtext\u001b[0m\u001b[1;33m[\u001b[0m\u001b[0mi\u001b[0m\u001b[1;33m]\u001b[0m\u001b[1;33m.\u001b[0m\u001b[0mappend\u001b[0m\u001b[1;33m(\u001b[0m\u001b[0mt\u001b[0m\u001b[1;33m[\u001b[0m\u001b[0mtext_count\u001b[0m\u001b[1;33m]\u001b[0m\u001b[1;33m.\u001b[0m\u001b[0mtext\u001b[0m\u001b[1;33m)\u001b[0m\u001b[1;33m\u001b[0m\u001b[1;33m\u001b[0m\u001b[0m\n",
      "\u001b[1;31mIndexError\u001b[0m: list index out of range"
     ]
    }
   ],
   "source": [
    "from selenium import webdriver\n",
    "from selenium.webdriver.common.keys import Keys\n",
    "from time import sleep\n",
    "from tqdm import tqdm\n",
    "import pandas as pd\n",
    "options = webdriver.ChromeOptions()\n",
    "options.add_argument('window-size=1920,1080')\n",
    "\n",
    "driver = webdriver.Chrome('chromedriver', options=options)\n",
    "driver.implicitly_wait(5)\n",
    "\n",
    "\n",
    "\n",
    "context = pd.DataFrame(['차종', '전장(mm)', '전폭(㎜)', '전고(㎜)', '축거(㎜)'])\n",
    "context = context.T\n",
    "context.columns = ['차종', '전장(mm)', '전폭(㎜)', '전고(㎜)', '축거(㎜)']\n",
    "\n",
    "url = 'http://auto.danawa.com/auto/modelPopup.php?Type=spec&Lineup='\n",
    "\n",
    "for page in tqdm(range(30000,100000), desc=\"WebPage is\", mininterval=0.01):\n",
    "    driver.get(url=url+str(page))\n",
    "    try :\n",
    "        company_name = driver.find_element_by_class_name('name') #Company_name\n",
    "    except :\n",
    "        continue;\n",
    "\n",
    "\n",
    "    tbody = driver.find_element_by_tag_name(\"tbody\")\n",
    "    if tbody.text != '세부모델':\n",
    "        try :\n",
    "            text = carCrawling1_set(tbody);\n",
    "            text.차종 = text.차종+'::'+ company_name\n",
    "            context = pd.concat([context,text])\n",
    "        except :\n",
    "            continue;\n",
    "    else : \n",
    "        try :\n",
    "            text = carCrawling2_set(driver)\n",
    "            text.차종 = text.차종+'::'+ company_name\n",
    "            context = pd.concat([context,text])\n",
    "        except :\n",
    "            continue;\n",
    "\n",
    "print('-----end------')\n",
    "print(context)\n",
    "            \n",
    "\n",
    "\n"
   ]
  }
 ],
 "metadata": {
  "kernelspec": {
   "display_name": "Python 3",
   "language": "python",
   "name": "python3"
  },
  "language_info": {
   "codemirror_mode": {
    "name": "ipython",
    "version": 3
   },
   "file_extension": ".py",
   "mimetype": "text/x-python",
   "name": "python",
   "nbconvert_exporter": "python",
   "pygments_lexer": "ipython3",
   "version": "3.8.5"
  }
 },
 "nbformat": 4,
 "nbformat_minor": 4
}
